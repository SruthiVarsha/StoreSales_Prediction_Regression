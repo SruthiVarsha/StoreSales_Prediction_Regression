{
 "cells": [
  {
   "cell_type": "markdown",
   "id": "ae983558",
   "metadata": {},
   "source": [
    "# Regression Mini Project"
   ]
  },
  {
   "cell_type": "markdown",
   "id": "9e504216",
   "metadata": {},
   "source": [
    "# Store Sales Prediction\n",
    "\n",
    "The success of any retail store depends upon its sales. More the sales made, more is the revenue. With \n",
    "a good customer service and care, the customer too enjoys a good shopping experience. This will lead \n",
    "to more in-flow of customers, opening more store branches across a city / country.\n",
    "To enable this, store owners rely heavily on past data to predict future sales. This will help them in \n",
    "strategizing their business models and come up with innovative techniques and ideas to attract \n",
    "customers and set realistic goals.\n",
    "Many medium to large stores implement this kind of analytics to understand trends like which products \n",
    "are getting sold faster, what are the slow moving products, impact of store types, etc. With new \n",
    "branches of the store, the analysis can get more complex and may also involve stiff competition from \n",
    "other competitors\n",
    "\n",
    "## Business Objective\n",
    "- Build a model to predict the Sales of a store"
   ]
  },
  {
   "cell_type": "markdown",
   "id": "e4cad16a",
   "metadata": {},
   "source": [
    "### Importing Required Libraries"
   ]
  },
  {
   "cell_type": "code",
   "execution_count": 1,
   "id": "a5221b36",
   "metadata": {},
   "outputs": [],
   "source": [
    "import pandas as pd                                                  # for working with dataframes\n",
    "import numpy as np                                                   # for working with arrays\n",
    "import matplotlib.pyplot as plt                                      # for visualizations\n",
    "import seaborn as sb                                                 # for visualizations\n",
    "from tabulate import tabulate                                        # for tabulations\n",
    "\n",
    "from sklearn import preprocessing                                    # for preprocessing datas\n",
    "from sklearn.preprocessing import StandardScaler,MinMaxScaler        # for data scaling\n",
    "from sklearn.model_selection import train_test_split                 # for data splitting\n",
    "from sklearn.linear_model import LinearRegression                    # for linear regression model\n",
    "from sklearn.metrics import mean_absolute_error,mean_squared_error,r2_score,mean_absolute_percentage_error    # for evaluation metrics\n",
    "from sklearn.tree import DecisionTreeRegressor                                           # for decision tree regressor model \n",
    "from sklearn.ensemble import RandomForestRegressor,AdaBoostRegressor,StackingRegressor   # for ensemble models\n",
    "from sklearn.model_selection import KFold                                                # for data splitting\n",
    "from sklearn.model_selection import cross_validate                                       # for cross validation\n",
    "from sklearn.model_selection import GridSearchCV                                         # for hyperparameter tuning\n",
    "\n",
    "import warnings\n",
    "warnings.filterwarnings('ignore')                                       # to ignore warnings"
   ]
  },
  {
   "cell_type": "markdown",
   "id": "7166aab3",
   "metadata": {},
   "source": [
    "### Loading the Dataset"
   ]
  },
  {
   "cell_type": "code",
   "execution_count": 2,
   "id": "e108de78",
   "metadata": {},
   "outputs": [
    {
     "data": {
      "text/html": [
       "<div>\n",
       "<style scoped>\n",
       "    .dataframe tbody tr th:only-of-type {\n",
       "        vertical-align: middle;\n",
       "    }\n",
       "\n",
       "    .dataframe tbody tr th {\n",
       "        vertical-align: top;\n",
       "    }\n",
       "\n",
       "    .dataframe thead th {\n",
       "        text-align: right;\n",
       "    }\n",
       "</style>\n",
       "<table border=\"1\" class=\"dataframe\">\n",
       "  <thead>\n",
       "    <tr style=\"text-align: right;\">\n",
       "      <th></th>\n",
       "      <th>Item_Identifier</th>\n",
       "      <th>Item_Weight</th>\n",
       "      <th>Item_Fat_Content</th>\n",
       "      <th>Item_Visibility</th>\n",
       "      <th>Item_Type</th>\n",
       "      <th>Item_MRP</th>\n",
       "      <th>Outlet_Identifier</th>\n",
       "      <th>Outlet_Establishment_Year</th>\n",
       "      <th>Outlet_Size</th>\n",
       "      <th>Outlet_Location_Type</th>\n",
       "      <th>Outlet_Type</th>\n",
       "      <th>Item_Outlet_Sales</th>\n",
       "    </tr>\n",
       "  </thead>\n",
       "  <tbody>\n",
       "    <tr>\n",
       "      <th>0</th>\n",
       "      <td>FDA15</td>\n",
       "      <td>9.30</td>\n",
       "      <td>Low Fat</td>\n",
       "      <td>0.016047</td>\n",
       "      <td>Dairy</td>\n",
       "      <td>249.8092</td>\n",
       "      <td>OUT049</td>\n",
       "      <td>1999</td>\n",
       "      <td>Medium</td>\n",
       "      <td>Tier 1</td>\n",
       "      <td>Supermarket Type1</td>\n",
       "      <td>3735.1380</td>\n",
       "    </tr>\n",
       "    <tr>\n",
       "      <th>1</th>\n",
       "      <td>DRC01</td>\n",
       "      <td>5.92</td>\n",
       "      <td>Regular</td>\n",
       "      <td>0.019278</td>\n",
       "      <td>Soft Drinks</td>\n",
       "      <td>48.2692</td>\n",
       "      <td>OUT018</td>\n",
       "      <td>2009</td>\n",
       "      <td>Medium</td>\n",
       "      <td>Tier 3</td>\n",
       "      <td>Supermarket Type2</td>\n",
       "      <td>443.4228</td>\n",
       "    </tr>\n",
       "    <tr>\n",
       "      <th>2</th>\n",
       "      <td>FDN15</td>\n",
       "      <td>17.50</td>\n",
       "      <td>Low Fat</td>\n",
       "      <td>0.016760</td>\n",
       "      <td>Meat</td>\n",
       "      <td>141.6180</td>\n",
       "      <td>OUT049</td>\n",
       "      <td>1999</td>\n",
       "      <td>Medium</td>\n",
       "      <td>Tier 1</td>\n",
       "      <td>Supermarket Type1</td>\n",
       "      <td>2097.2700</td>\n",
       "    </tr>\n",
       "    <tr>\n",
       "      <th>3</th>\n",
       "      <td>FDX07</td>\n",
       "      <td>19.20</td>\n",
       "      <td>Regular</td>\n",
       "      <td>0.074402</td>\n",
       "      <td>Fruits and Vegetables</td>\n",
       "      <td>182.0950</td>\n",
       "      <td>OUT010</td>\n",
       "      <td>1998</td>\n",
       "      <td>Medium</td>\n",
       "      <td>Tier 3</td>\n",
       "      <td>Grocery Store</td>\n",
       "      <td>732.3800</td>\n",
       "    </tr>\n",
       "    <tr>\n",
       "      <th>4</th>\n",
       "      <td>NCD19</td>\n",
       "      <td>8.93</td>\n",
       "      <td>Low Fat</td>\n",
       "      <td>0.064299</td>\n",
       "      <td>Household</td>\n",
       "      <td>53.8614</td>\n",
       "      <td>OUT013</td>\n",
       "      <td>1987</td>\n",
       "      <td>High</td>\n",
       "      <td>Tier 3</td>\n",
       "      <td>Supermarket Type1</td>\n",
       "      <td>994.7052</td>\n",
       "    </tr>\n",
       "  </tbody>\n",
       "</table>\n",
       "</div>"
      ],
      "text/plain": [
       "  Item_Identifier  Item_Weight Item_Fat_Content  Item_Visibility  \\\n",
       "0           FDA15         9.30          Low Fat         0.016047   \n",
       "1           DRC01         5.92          Regular         0.019278   \n",
       "2           FDN15        17.50          Low Fat         0.016760   \n",
       "3           FDX07        19.20          Regular         0.074402   \n",
       "4           NCD19         8.93          Low Fat         0.064299   \n",
       "\n",
       "               Item_Type  Item_MRP Outlet_Identifier  \\\n",
       "0                  Dairy  249.8092            OUT049   \n",
       "1            Soft Drinks   48.2692            OUT018   \n",
       "2                   Meat  141.6180            OUT049   \n",
       "3  Fruits and Vegetables  182.0950            OUT010   \n",
       "4              Household   53.8614            OUT013   \n",
       "\n",
       "   Outlet_Establishment_Year Outlet_Size Outlet_Location_Type  \\\n",
       "0                       1999      Medium               Tier 1   \n",
       "1                       2009      Medium               Tier 3   \n",
       "2                       1999      Medium               Tier 1   \n",
       "3                       1998      Medium               Tier 3   \n",
       "4                       1987        High               Tier 3   \n",
       "\n",
       "         Outlet_Type  Item_Outlet_Sales  \n",
       "0  Supermarket Type1          3735.1380  \n",
       "1  Supermarket Type2           443.4228  \n",
       "2  Supermarket Type1          2097.2700  \n",
       "3      Grocery Store           732.3800  \n",
       "4  Supermarket Type1           994.7052  "
      ]
     },
     "execution_count": 2,
     "metadata": {},
     "output_type": "execute_result"
    }
   ],
   "source": [
    "df = pd.read_csv('DS3_C6_S1_Regression_StoreSales_Data_Project.csv')\n",
    "df.head()"
   ]
  },
  {
   "cell_type": "code",
   "execution_count": 3,
   "id": "b971f46b",
   "metadata": {},
   "outputs": [
    {
     "data": {
      "text/html": [
       "<div>\n",
       "<style scoped>\n",
       "    .dataframe tbody tr th:only-of-type {\n",
       "        vertical-align: middle;\n",
       "    }\n",
       "\n",
       "    .dataframe tbody tr th {\n",
       "        vertical-align: top;\n",
       "    }\n",
       "\n",
       "    .dataframe thead th {\n",
       "        text-align: right;\n",
       "    }\n",
       "</style>\n",
       "<table border=\"1\" class=\"dataframe\">\n",
       "  <thead>\n",
       "    <tr style=\"text-align: right;\">\n",
       "      <th></th>\n",
       "      <th>Item_Identifier</th>\n",
       "      <th>Item_Weight</th>\n",
       "      <th>Item_Fat_Content</th>\n",
       "      <th>Item_Visibility</th>\n",
       "      <th>Item_Type</th>\n",
       "      <th>Item_MRP</th>\n",
       "      <th>Outlet_Identifier</th>\n",
       "      <th>Outlet_Establishment_Year</th>\n",
       "      <th>Outlet_Size</th>\n",
       "      <th>Outlet_Location_Type</th>\n",
       "      <th>Outlet_Type</th>\n",
       "      <th>Item_Outlet_Sales</th>\n",
       "    </tr>\n",
       "  </thead>\n",
       "  <tbody>\n",
       "    <tr>\n",
       "      <th>14199</th>\n",
       "      <td>FDB58</td>\n",
       "      <td>10.5</td>\n",
       "      <td>Regular</td>\n",
       "      <td>0.013496</td>\n",
       "      <td>Snack Foods</td>\n",
       "      <td>141.3154</td>\n",
       "      <td>OUT046</td>\n",
       "      <td>1997</td>\n",
       "      <td>Small</td>\n",
       "      <td>Tier 1</td>\n",
       "      <td>Supermarket Type1</td>\n",
       "      <td>NaN</td>\n",
       "    </tr>\n",
       "    <tr>\n",
       "      <th>14200</th>\n",
       "      <td>FDD47</td>\n",
       "      <td>7.6</td>\n",
       "      <td>Regular</td>\n",
       "      <td>0.142991</td>\n",
       "      <td>Starchy Foods</td>\n",
       "      <td>169.1448</td>\n",
       "      <td>OUT018</td>\n",
       "      <td>2009</td>\n",
       "      <td>Medium</td>\n",
       "      <td>Tier 3</td>\n",
       "      <td>Supermarket Type2</td>\n",
       "      <td>NaN</td>\n",
       "    </tr>\n",
       "    <tr>\n",
       "      <th>14201</th>\n",
       "      <td>NCO17</td>\n",
       "      <td>10.0</td>\n",
       "      <td>Low Fat</td>\n",
       "      <td>0.073529</td>\n",
       "      <td>Health and Hygiene</td>\n",
       "      <td>118.7440</td>\n",
       "      <td>OUT045</td>\n",
       "      <td>2002</td>\n",
       "      <td>Small</td>\n",
       "      <td>Tier 2</td>\n",
       "      <td>Supermarket Type1</td>\n",
       "      <td>NaN</td>\n",
       "    </tr>\n",
       "    <tr>\n",
       "      <th>14202</th>\n",
       "      <td>FDJ26</td>\n",
       "      <td>15.3</td>\n",
       "      <td>Regular</td>\n",
       "      <td>0.064709</td>\n",
       "      <td>Canned</td>\n",
       "      <td>214.6218</td>\n",
       "      <td>OUT017</td>\n",
       "      <td>2007</td>\n",
       "      <td>Small</td>\n",
       "      <td>Tier 2</td>\n",
       "      <td>Supermarket Type1</td>\n",
       "      <td>NaN</td>\n",
       "    </tr>\n",
       "    <tr>\n",
       "      <th>14203</th>\n",
       "      <td>FDU37</td>\n",
       "      <td>9.5</td>\n",
       "      <td>Regular</td>\n",
       "      <td>0.104720</td>\n",
       "      <td>Canned</td>\n",
       "      <td>79.7960</td>\n",
       "      <td>OUT045</td>\n",
       "      <td>2002</td>\n",
       "      <td>Small</td>\n",
       "      <td>Tier 2</td>\n",
       "      <td>Supermarket Type1</td>\n",
       "      <td>NaN</td>\n",
       "    </tr>\n",
       "  </tbody>\n",
       "</table>\n",
       "</div>"
      ],
      "text/plain": [
       "      Item_Identifier  Item_Weight Item_Fat_Content  Item_Visibility  \\\n",
       "14199           FDB58         10.5          Regular         0.013496   \n",
       "14200           FDD47          7.6          Regular         0.142991   \n",
       "14201           NCO17         10.0          Low Fat         0.073529   \n",
       "14202           FDJ26         15.3          Regular         0.064709   \n",
       "14203           FDU37          9.5          Regular         0.104720   \n",
       "\n",
       "                Item_Type  Item_MRP Outlet_Identifier  \\\n",
       "14199         Snack Foods  141.3154            OUT046   \n",
       "14200       Starchy Foods  169.1448            OUT018   \n",
       "14201  Health and Hygiene  118.7440            OUT045   \n",
       "14202              Canned  214.6218            OUT017   \n",
       "14203              Canned   79.7960            OUT045   \n",
       "\n",
       "       Outlet_Establishment_Year Outlet_Size Outlet_Location_Type  \\\n",
       "14199                       1997       Small               Tier 1   \n",
       "14200                       2009      Medium               Tier 3   \n",
       "14201                       2002       Small               Tier 2   \n",
       "14202                       2007       Small               Tier 2   \n",
       "14203                       2002       Small               Tier 2   \n",
       "\n",
       "             Outlet_Type  Item_Outlet_Sales  \n",
       "14199  Supermarket Type1                NaN  \n",
       "14200  Supermarket Type2                NaN  \n",
       "14201  Supermarket Type1                NaN  \n",
       "14202  Supermarket Type1                NaN  \n",
       "14203  Supermarket Type1                NaN  "
      ]
     },
     "execution_count": 3,
     "metadata": {},
     "output_type": "execute_result"
    }
   ],
   "source": [
    "df.tail()"
   ]
  },
  {
   "cell_type": "markdown",
   "id": "81e6f08f",
   "metadata": {},
   "source": [
    "**Data Dictionary**:\n",
    "- **Item_Identifier**: Unique Product ID\n",
    "- **Item_weight**: Weight of the product\n",
    "- **Item_Fat_Content**: Total fat content in the product\n",
    "- **Item_Visibility**: How visible is the product in the store\n",
    "- **Item_Type**: Product category of the selected product\n",
    "- **Item_MRP**: Product cost\n",
    "- **Outlet_Identifier**: The Store ID\n",
    "- **Outlet_Establishment_Year**: The year when the store was opened\n",
    "- **Outlet_Size**: Size of the store\n",
    "- **Outlet_Location_Type**: Location type where the store is located\n",
    "- **Outlet_Type**: The type of store\n",
    "- **Item_Outlet_Sales**: Sales made by the store outlet. *(Target)*"
   ]
  },
  {
   "cell_type": "markdown",
   "id": "7be00454",
   "metadata": {},
   "source": [
    "### Shape of Dataset"
   ]
  },
  {
   "cell_type": "code",
   "execution_count": 4,
   "id": "a89ee330",
   "metadata": {},
   "outputs": [
    {
     "name": "stdout",
     "output_type": "stream",
     "text": [
      "Shape   : (14204, 12)\n",
      "Rows    : 14204\n",
      "Columns : 12\n"
     ]
    }
   ],
   "source": [
    "print('Shape   :',df.shape)\n",
    "print('Rows    :',df.shape[0])\n",
    "print('Columns :',df.shape[1])"
   ]
  },
  {
   "cell_type": "markdown",
   "id": "b7c1e1bc",
   "metadata": {},
   "source": [
    "### Information of Dataset"
   ]
  },
  {
   "cell_type": "code",
   "execution_count": 5,
   "id": "09e39508",
   "metadata": {},
   "outputs": [
    {
     "name": "stdout",
     "output_type": "stream",
     "text": [
      "<class 'pandas.core.frame.DataFrame'>\n",
      "RangeIndex: 14204 entries, 0 to 14203\n",
      "Data columns (total 12 columns):\n",
      " #   Column                     Non-Null Count  Dtype  \n",
      "---  ------                     --------------  -----  \n",
      " 0   Item_Identifier            14204 non-null  object \n",
      " 1   Item_Weight                14204 non-null  float64\n",
      " 2   Item_Fat_Content           14204 non-null  object \n",
      " 3   Item_Visibility            14204 non-null  float64\n",
      " 4   Item_Type                  14204 non-null  object \n",
      " 5   Item_MRP                   14204 non-null  float64\n",
      " 6   Outlet_Identifier          14204 non-null  object \n",
      " 7   Outlet_Establishment_Year  14204 non-null  int64  \n",
      " 8   Outlet_Size                14204 non-null  object \n",
      " 9   Outlet_Location_Type       14204 non-null  object \n",
      " 10  Outlet_Type                14204 non-null  object \n",
      " 11  Item_Outlet_Sales          8523 non-null   float64\n",
      "dtypes: float64(4), int64(1), object(7)\n",
      "memory usage: 1.3+ MB\n"
     ]
    }
   ],
   "source": [
    "df.info()"
   ]
  },
  {
   "cell_type": "markdown",
   "id": "9d3358de",
   "metadata": {},
   "source": [
    "The dataset contains 5 numerical columns and 7 categorical columns. "
   ]
  },
  {
   "cell_type": "markdown",
   "id": "e25cf141",
   "metadata": {},
   "source": [
    "### Summary of Dataset"
   ]
  },
  {
   "cell_type": "code",
   "execution_count": 6,
   "id": "72a4ddf8",
   "metadata": {},
   "outputs": [
    {
     "data": {
      "text/html": [
       "<div>\n",
       "<style scoped>\n",
       "    .dataframe tbody tr th:only-of-type {\n",
       "        vertical-align: middle;\n",
       "    }\n",
       "\n",
       "    .dataframe tbody tr th {\n",
       "        vertical-align: top;\n",
       "    }\n",
       "\n",
       "    .dataframe thead th {\n",
       "        text-align: right;\n",
       "    }\n",
       "</style>\n",
       "<table border=\"1\" class=\"dataframe\">\n",
       "  <thead>\n",
       "    <tr style=\"text-align: right;\">\n",
       "      <th></th>\n",
       "      <th>Item_Weight</th>\n",
       "      <th>Item_Visibility</th>\n",
       "      <th>Item_MRP</th>\n",
       "      <th>Outlet_Establishment_Year</th>\n",
       "      <th>Item_Outlet_Sales</th>\n",
       "    </tr>\n",
       "  </thead>\n",
       "  <tbody>\n",
       "    <tr>\n",
       "      <th>count</th>\n",
       "      <td>14204.000000</td>\n",
       "      <td>14204.000000</td>\n",
       "      <td>14204.000000</td>\n",
       "      <td>14204.000000</td>\n",
       "      <td>8523.000000</td>\n",
       "    </tr>\n",
       "    <tr>\n",
       "      <th>mean</th>\n",
       "      <td>12.793380</td>\n",
       "      <td>0.070301</td>\n",
       "      <td>141.004977</td>\n",
       "      <td>1997.830681</td>\n",
       "      <td>2181.288914</td>\n",
       "    </tr>\n",
       "    <tr>\n",
       "      <th>std</th>\n",
       "      <td>4.651716</td>\n",
       "      <td>0.048621</td>\n",
       "      <td>62.086938</td>\n",
       "      <td>8.371664</td>\n",
       "      <td>1706.499616</td>\n",
       "    </tr>\n",
       "    <tr>\n",
       "      <th>min</th>\n",
       "      <td>4.555000</td>\n",
       "      <td>0.003575</td>\n",
       "      <td>31.290000</td>\n",
       "      <td>1985.000000</td>\n",
       "      <td>33.290000</td>\n",
       "    </tr>\n",
       "    <tr>\n",
       "      <th>25%</th>\n",
       "      <td>8.710000</td>\n",
       "      <td>0.033143</td>\n",
       "      <td>94.012000</td>\n",
       "      <td>1987.000000</td>\n",
       "      <td>834.247400</td>\n",
       "    </tr>\n",
       "    <tr>\n",
       "      <th>50%</th>\n",
       "      <td>12.600000</td>\n",
       "      <td>0.062347</td>\n",
       "      <td>142.247000</td>\n",
       "      <td>1999.000000</td>\n",
       "      <td>1794.331000</td>\n",
       "    </tr>\n",
       "    <tr>\n",
       "      <th>75%</th>\n",
       "      <td>16.750000</td>\n",
       "      <td>0.094037</td>\n",
       "      <td>185.855600</td>\n",
       "      <td>2004.000000</td>\n",
       "      <td>3101.296400</td>\n",
       "    </tr>\n",
       "    <tr>\n",
       "      <th>max</th>\n",
       "      <td>21.350000</td>\n",
       "      <td>0.328391</td>\n",
       "      <td>266.888400</td>\n",
       "      <td>2009.000000</td>\n",
       "      <td>13086.964800</td>\n",
       "    </tr>\n",
       "  </tbody>\n",
       "</table>\n",
       "</div>"
      ],
      "text/plain": [
       "        Item_Weight  Item_Visibility      Item_MRP  Outlet_Establishment_Year  \\\n",
       "count  14204.000000     14204.000000  14204.000000               14204.000000   \n",
       "mean      12.793380         0.070301    141.004977                1997.830681   \n",
       "std        4.651716         0.048621     62.086938                   8.371664   \n",
       "min        4.555000         0.003575     31.290000                1985.000000   \n",
       "25%        8.710000         0.033143     94.012000                1987.000000   \n",
       "50%       12.600000         0.062347    142.247000                1999.000000   \n",
       "75%       16.750000         0.094037    185.855600                2004.000000   \n",
       "max       21.350000         0.328391    266.888400                2009.000000   \n",
       "\n",
       "       Item_Outlet_Sales  \n",
       "count        8523.000000  \n",
       "mean         2181.288914  \n",
       "std          1706.499616  \n",
       "min            33.290000  \n",
       "25%           834.247400  \n",
       "50%          1794.331000  \n",
       "75%          3101.296400  \n",
       "max         13086.964800  "
      ]
     },
     "execution_count": 6,
     "metadata": {},
     "output_type": "execute_result"
    }
   ],
   "source": [
    "# Numerical\n",
    "df.describe()"
   ]
  },
  {
   "cell_type": "code",
   "execution_count": 7,
   "id": "5e62034d",
   "metadata": {},
   "outputs": [
    {
     "data": {
      "text/html": [
       "<div>\n",
       "<style scoped>\n",
       "    .dataframe tbody tr th:only-of-type {\n",
       "        vertical-align: middle;\n",
       "    }\n",
       "\n",
       "    .dataframe tbody tr th {\n",
       "        vertical-align: top;\n",
       "    }\n",
       "\n",
       "    .dataframe thead th {\n",
       "        text-align: right;\n",
       "    }\n",
       "</style>\n",
       "<table border=\"1\" class=\"dataframe\">\n",
       "  <thead>\n",
       "    <tr style=\"text-align: right;\">\n",
       "      <th></th>\n",
       "      <th>Item_Identifier</th>\n",
       "      <th>Item_Fat_Content</th>\n",
       "      <th>Item_Type</th>\n",
       "      <th>Outlet_Identifier</th>\n",
       "      <th>Outlet_Size</th>\n",
       "      <th>Outlet_Location_Type</th>\n",
       "      <th>Outlet_Type</th>\n",
       "    </tr>\n",
       "  </thead>\n",
       "  <tbody>\n",
       "    <tr>\n",
       "      <th>count</th>\n",
       "      <td>14204</td>\n",
       "      <td>14204</td>\n",
       "      <td>14204</td>\n",
       "      <td>14204</td>\n",
       "      <td>14204</td>\n",
       "      <td>14204</td>\n",
       "      <td>14204</td>\n",
       "    </tr>\n",
       "    <tr>\n",
       "      <th>unique</th>\n",
       "      <td>1559</td>\n",
       "      <td>2</td>\n",
       "      <td>16</td>\n",
       "      <td>10</td>\n",
       "      <td>3</td>\n",
       "      <td>3</td>\n",
       "      <td>4</td>\n",
       "    </tr>\n",
       "    <tr>\n",
       "      <th>top</th>\n",
       "      <td>FDU15</td>\n",
       "      <td>Low Fat</td>\n",
       "      <td>Fruits and Vegetables</td>\n",
       "      <td>OUT027</td>\n",
       "      <td>Small</td>\n",
       "      <td>Tier 3</td>\n",
       "      <td>Supermarket Type1</td>\n",
       "    </tr>\n",
       "    <tr>\n",
       "      <th>freq</th>\n",
       "      <td>10</td>\n",
       "      <td>9185</td>\n",
       "      <td>2013</td>\n",
       "      <td>1559</td>\n",
       "      <td>7071</td>\n",
       "      <td>5583</td>\n",
       "      <td>9294</td>\n",
       "    </tr>\n",
       "  </tbody>\n",
       "</table>\n",
       "</div>"
      ],
      "text/plain": [
       "       Item_Identifier Item_Fat_Content              Item_Type  \\\n",
       "count            14204            14204                  14204   \n",
       "unique            1559                2                     16   \n",
       "top              FDU15          Low Fat  Fruits and Vegetables   \n",
       "freq                10             9185                   2013   \n",
       "\n",
       "       Outlet_Identifier Outlet_Size Outlet_Location_Type        Outlet_Type  \n",
       "count              14204       14204                14204              14204  \n",
       "unique                10           3                    3                  4  \n",
       "top               OUT027       Small               Tier 3  Supermarket Type1  \n",
       "freq                1559        7071                 5583               9294  "
      ]
     },
     "execution_count": 7,
     "metadata": {},
     "output_type": "execute_result"
    }
   ],
   "source": [
    "# Categorical\n",
    "df.describe(include='object')"
   ]
  },
  {
   "cell_type": "markdown",
   "id": "331b3e8e",
   "metadata": {},
   "source": [
    "### Data Types of Dataset"
   ]
  },
  {
   "cell_type": "code",
   "execution_count": 8,
   "id": "db8c1424",
   "metadata": {},
   "outputs": [
    {
     "data": {
      "text/plain": [
       "Item_Identifier               object\n",
       "Item_Weight                  float64\n",
       "Item_Fat_Content              object\n",
       "Item_Visibility              float64\n",
       "Item_Type                     object\n",
       "Item_MRP                     float64\n",
       "Outlet_Identifier             object\n",
       "Outlet_Establishment_Year      int64\n",
       "Outlet_Size                   object\n",
       "Outlet_Location_Type          object\n",
       "Outlet_Type                   object\n",
       "Item_Outlet_Sales            float64\n",
       "dtype: object"
      ]
     },
     "execution_count": 8,
     "metadata": {},
     "output_type": "execute_result"
    }
   ],
   "source": [
    "df.dtypes"
   ]
  },
  {
   "cell_type": "markdown",
   "id": "9425281b",
   "metadata": {},
   "source": [
    "### Seggregation of Qualitative & Quantitative data"
   ]
  },
  {
   "cell_type": "code",
   "execution_count": 9,
   "id": "ff2849ab",
   "metadata": {},
   "outputs": [
    {
     "name": "stdout",
     "output_type": "stream",
     "text": [
      "Categorical           Numerical\n",
      "--------------------  -------------------------\n",
      "Item_Identifier       Item_Weight\n",
      "Item_Fat_Content      Item_Visibility\n",
      "Item_Type             Item_MRP\n",
      "Outlet_Identifier     Outlet_Establishment_Year\n",
      "Outlet_Size           Item_Outlet_Sales\n",
      "Outlet_Location_Type\n",
      "Outlet_Type\n"
     ]
    }
   ],
   "source": [
    "a = df.select_dtypes(exclude='object')\n",
    "b = df.select_dtypes(include='object')\n",
    "\n",
    "a_lst = list(a.columns)\n",
    "b_lst = list(b.columns)\n",
    "table = [a_lst,b_lst]\n",
    "\n",
    "print(tabulate({'Categorical':b_lst,\n",
    "                 'Continuous':a_lst}, headers=['Categorical','Numerical']))"
   ]
  },
  {
   "cell_type": "markdown",
   "id": "1a699e84",
   "metadata": {},
   "source": [
    "### Checking for Missing Values"
   ]
  },
  {
   "cell_type": "code",
   "execution_count": 10,
   "id": "f2dd97b5",
   "metadata": {},
   "outputs": [
    {
     "data": {
      "text/plain": [
       "Item_Identifier                 0\n",
       "Item_Weight                     0\n",
       "Item_Fat_Content                0\n",
       "Item_Visibility                 0\n",
       "Item_Type                       0\n",
       "Item_MRP                        0\n",
       "Outlet_Identifier               0\n",
       "Outlet_Establishment_Year       0\n",
       "Outlet_Size                     0\n",
       "Outlet_Location_Type            0\n",
       "Outlet_Type                     0\n",
       "Item_Outlet_Sales            5681\n",
       "dtype: int64"
      ]
     },
     "execution_count": 10,
     "metadata": {},
     "output_type": "execute_result"
    }
   ],
   "source": [
    "df.isna().sum()"
   ]
  },
  {
   "cell_type": "code",
   "execution_count": 11,
   "id": "e0a6c66b",
   "metadata": {},
   "outputs": [
    {
     "data": {
      "text/plain": [
       "Item_Identifier               0.000000\n",
       "Item_Weight                   0.000000\n",
       "Item_Fat_Content              0.000000\n",
       "Item_Visibility               0.000000\n",
       "Item_Type                     0.000000\n",
       "Item_MRP                      0.000000\n",
       "Outlet_Identifier             0.000000\n",
       "Outlet_Establishment_Year     0.000000\n",
       "Outlet_Size                   0.000000\n",
       "Outlet_Location_Type          0.000000\n",
       "Outlet_Type                   0.000000\n",
       "Item_Outlet_Sales            39.995776\n",
       "dtype: float64"
      ]
     },
     "execution_count": 11,
     "metadata": {},
     "output_type": "execute_result"
    }
   ],
   "source": [
    "# Ratio of missing values\n",
    "(df.isna().sum()/df.shape[0])*100"
   ]
  },
  {
   "cell_type": "markdown",
   "id": "328fb801",
   "metadata": {},
   "source": [
    "**There are more than 30 percent of Missing values in the Item_Outlet_Sales column.**"
   ]
  },
  {
   "cell_type": "markdown",
   "id": "e58b6012",
   "metadata": {},
   "source": [
    "### Outlier Check in Dependent Column"
   ]
  },
  {
   "cell_type": "code",
   "execution_count": 12,
   "id": "8a50ec03",
   "metadata": {},
   "outputs": [
    {
     "data": {
      "text/plain": [
       "<AxesSubplot:xlabel='Item_Outlet_Sales'>"
      ]
     },
     "execution_count": 12,
     "metadata": {},
     "output_type": "execute_result"
    },
    {
     "data": {
      "image/png": "[encoded data removed]",
      "text/plain": [
       "<Figure size 432x288 with 1 Axes>"
      ]
     },
     "metadata": {
      "needs_background": "light"
     },
     "output_type": "display_data"
    }
   ],
   "source": [
    "sb.boxplot(df['Item_Outlet_Sales'])"
   ]
  },
  {
   "cell_type": "markdown",
   "id": "90724248",
   "metadata": {},
   "source": [
    "**Outliers are present in the Item_Outlet_Sales column which is the dependent column that is to be predicted**"
   ]
  },
  {
   "cell_type": "markdown",
   "id": "baf9bb0d",
   "metadata": {},
   "source": [
    "### Missing Value Imputation"
   ]
  },
  {
   "cell_type": "markdown",
   "id": "ca3a5bbe",
   "metadata": {},
   "source": [
    "- As there are missing values in the Item_Outlet_Sales column we have to impute those values in order to proceed with our analysis.\n",
    "- There are also outliers present in the column.\n",
    "- We can fill those missing values with the median value of the Item_Outlet_sales of each Item_Type in respect to the Outlet_Types."
   ]
  },
  {
   "cell_type": "code",
   "execution_count": 13,
   "id": "d6a89015",
   "metadata": {},
   "outputs": [],
   "source": [
    "# to display max rows of output\n",
    "pd.set_option('display.max_rows',100) "
   ]
  },
  {
   "cell_type": "code",
   "execution_count": 14,
   "id": "44a293cb",
   "metadata": {},
   "outputs": [
    {
     "data": {
      "text/html": [
       "<div>\n",
       "<style scoped>\n",
       "    .dataframe tbody tr th:only-of-type {\n",
       "        vertical-align: middle;\n",
       "    }\n",
       "\n",
       "    .dataframe tbody tr th {\n",
       "        vertical-align: top;\n",
       "    }\n",
       "\n",
       "    .dataframe thead th {\n",
       "        text-align: right;\n",
       "    }\n",
       "</style>\n",
       "<table border=\"1\" class=\"dataframe\">\n",
       "  <thead>\n",
       "    <tr style=\"text-align: right;\">\n",
       "      <th></th>\n",
       "      <th></th>\n",
       "      <th>Item_Outlet_Sales</th>\n",
       "    </tr>\n",
       "    <tr>\n",
       "      <th>Outlet_Type</th>\n",
       "      <th>Item_Type</th>\n",
       "      <th></th>\n",
       "    </tr>\n",
       "  </thead>\n",
       "  <tbody>\n",
       "    <tr>\n",
       "      <th rowspan=\"16\" valign=\"top\">Grocery Store</th>\n",
       "      <th>Baking Goods</th>\n",
       "      <td>223.7088</td>\n",
       "    </tr>\n",
       "    <tr>\n",
       "      <th>Breads</th>\n",
       "      <td>329.5710</td>\n",
       "    </tr>\n",
       "    <tr>\n",
       "      <th>Breakfast</th>\n",
       "      <td>352.8740</td>\n",
       "    </tr>\n",
       "    <tr>\n",
       "      <th>Canned</th>\n",
       "      <td>285.6282</td>\n",
       "    </tr>\n",
       "    <tr>\n",
       "      <th>Dairy</th>\n",
       "      <td>263.9897</td>\n",
       "    </tr>\n",
       "    <tr>\n",
       "      <th>Frozen Foods</th>\n",
       "      <td>229.0352</td>\n",
       "    </tr>\n",
       "    <tr>\n",
       "      <th>Fruits and Vegetables</th>\n",
       "      <td>248.3434</td>\n",
       "    </tr>\n",
       "    <tr>\n",
       "      <th>Hard Drinks</th>\n",
       "      <td>145.8102</td>\n",
       "    </tr>\n",
       "    <tr>\n",
       "      <th>Health and Hygiene</th>\n",
       "      <td>264.9884</td>\n",
       "    </tr>\n",
       "    <tr>\n",
       "      <th>Household</th>\n",
       "      <td>296.2810</td>\n",
       "    </tr>\n",
       "    <tr>\n",
       "      <th>Meat</th>\n",
       "      <td>284.2966</td>\n",
       "    </tr>\n",
       "    <tr>\n",
       "      <th>Others</th>\n",
       "      <td>214.3876</td>\n",
       "    </tr>\n",
       "    <tr>\n",
       "      <th>Seafood</th>\n",
       "      <td>179.4331</td>\n",
       "    </tr>\n",
       "    <tr>\n",
       "      <th>Snack Foods</th>\n",
       "      <td>309.5970</td>\n",
       "    </tr>\n",
       "    <tr>\n",
       "      <th>Soft Drinks</th>\n",
       "      <td>288.2914</td>\n",
       "    </tr>\n",
       "    <tr>\n",
       "      <th>Starchy Foods</th>\n",
       "      <td>185.0924</td>\n",
       "    </tr>\n",
       "    <tr>\n",
       "      <th rowspan=\"16\" valign=\"top\">Supermarket Type1</th>\n",
       "      <th>Baking Goods</th>\n",
       "      <td>1764.7029</td>\n",
       "    </tr>\n",
       "    <tr>\n",
       "      <th>Breads</th>\n",
       "      <td>1980.7550</td>\n",
       "    </tr>\n",
       "    <tr>\n",
       "      <th>Breakfast</th>\n",
       "      <td>1877.8889</td>\n",
       "    </tr>\n",
       "    <tr>\n",
       "      <th>Canned</th>\n",
       "      <td>2032.0216</td>\n",
       "    </tr>\n",
       "    <tr>\n",
       "      <th>Dairy</th>\n",
       "      <td>1940.1412</td>\n",
       "    </tr>\n",
       "    <tr>\n",
       "      <th>Frozen Foods</th>\n",
       "      <td>1853.5872</td>\n",
       "    </tr>\n",
       "    <tr>\n",
       "      <th>Fruits and Vegetables</th>\n",
       "      <td>2050.6640</td>\n",
       "    </tr>\n",
       "    <tr>\n",
       "      <th>Hard Drinks</th>\n",
       "      <td>1829.6184</td>\n",
       "    </tr>\n",
       "    <tr>\n",
       "      <th>Health and Hygiene</th>\n",
       "      <td>1950.7940</td>\n",
       "    </tr>\n",
       "    <tr>\n",
       "      <th>Household</th>\n",
       "      <td>2245.0776</td>\n",
       "    </tr>\n",
       "    <tr>\n",
       "      <th>Meat</th>\n",
       "      <td>2014.7108</td>\n",
       "    </tr>\n",
       "    <tr>\n",
       "      <th>Others</th>\n",
       "      <td>2120.5730</td>\n",
       "    </tr>\n",
       "    <tr>\n",
       "      <th>Seafood</th>\n",
       "      <td>2582.6382</td>\n",
       "    </tr>\n",
       "    <tr>\n",
       "      <th>Snack Foods</th>\n",
       "      <td>2087.2830</td>\n",
       "    </tr>\n",
       "    <tr>\n",
       "      <th>Soft Drinks</th>\n",
       "      <td>1709.7744</td>\n",
       "    </tr>\n",
       "    <tr>\n",
       "      <th>Starchy Foods</th>\n",
       "      <td>2232.4274</td>\n",
       "    </tr>\n",
       "    <tr>\n",
       "      <th rowspan=\"16\" valign=\"top\">Supermarket Type2</th>\n",
       "      <th>Baking Goods</th>\n",
       "      <td>1538.3309</td>\n",
       "    </tr>\n",
       "    <tr>\n",
       "      <th>Breads</th>\n",
       "      <td>1428.1410</td>\n",
       "    </tr>\n",
       "    <tr>\n",
       "      <th>Breakfast</th>\n",
       "      <td>1215.0850</td>\n",
       "    </tr>\n",
       "    <tr>\n",
       "      <th>Canned</th>\n",
       "      <td>1528.3439</td>\n",
       "    </tr>\n",
       "    <tr>\n",
       "      <th>Dairy</th>\n",
       "      <td>1571.2880</td>\n",
       "    </tr>\n",
       "    <tr>\n",
       "      <th>Frozen Foods</th>\n",
       "      <td>1648.8537</td>\n",
       "    </tr>\n",
       "    <tr>\n",
       "      <th>Fruits and Vegetables</th>\n",
       "      <td>1593.9252</td>\n",
       "    </tr>\n",
       "    <tr>\n",
       "      <th>Hard Drinks</th>\n",
       "      <td>2167.5119</td>\n",
       "    </tr>\n",
       "    <tr>\n",
       "      <th>Health and Hygiene</th>\n",
       "      <td>1592.5936</td>\n",
       "    </tr>\n",
       "    <tr>\n",
       "      <th>Household</th>\n",
       "      <td>1749.7224</td>\n",
       "    </tr>\n",
       "    <tr>\n",
       "      <th>Meat</th>\n",
       "      <td>1762.3726</td>\n",
       "    </tr>\n",
       "    <tr>\n",
       "      <th>Others</th>\n",
       "      <td>1613.8992</td>\n",
       "    </tr>\n",
       "    <tr>\n",
       "      <th>Seafood</th>\n",
       "      <td>2600.6148</td>\n",
       "    </tr>\n",
       "    <tr>\n",
       "      <th>Snack Foods</th>\n",
       "      <td>1871.5638</td>\n",
       "    </tr>\n",
       "    <tr>\n",
       "      <th>Soft Drinks</th>\n",
       "      <td>1488.0630</td>\n",
       "    </tr>\n",
       "    <tr>\n",
       "      <th>Starchy Foods</th>\n",
       "      <td>1656.5104</td>\n",
       "    </tr>\n",
       "    <tr>\n",
       "      <th rowspan=\"16\" valign=\"top\">Supermarket Type3</th>\n",
       "      <th>Baking Goods</th>\n",
       "      <td>3146.5708</td>\n",
       "    </tr>\n",
       "    <tr>\n",
       "      <th>Breads</th>\n",
       "      <td>3237.1196</td>\n",
       "    </tr>\n",
       "    <tr>\n",
       "      <th>Breakfast</th>\n",
       "      <td>3866.9664</td>\n",
       "    </tr>\n",
       "    <tr>\n",
       "      <th>Canned</th>\n",
       "      <td>3460.1626</td>\n",
       "    </tr>\n",
       "    <tr>\n",
       "      <th>Dairy</th>\n",
       "      <td>3435.5280</td>\n",
       "    </tr>\n",
       "    <tr>\n",
       "      <th>Frozen Foods</th>\n",
       "      <td>3057.3536</td>\n",
       "    </tr>\n",
       "    <tr>\n",
       "      <th>Fruits and Vegetables</th>\n",
       "      <td>3996.7974</td>\n",
       "    </tr>\n",
       "    <tr>\n",
       "      <th>Hard Drinks</th>\n",
       "      <td>3195.8400</td>\n",
       "    </tr>\n",
       "    <tr>\n",
       "      <th>Health and Hygiene</th>\n",
       "      <td>3019.4030</td>\n",
       "    </tr>\n",
       "    <tr>\n",
       "      <th>Household</th>\n",
       "      <td>3419.5488</td>\n",
       "    </tr>\n",
       "    <tr>\n",
       "      <th>Meat</th>\n",
       "      <td>3300.0377</td>\n",
       "    </tr>\n",
       "    <tr>\n",
       "      <th>Others</th>\n",
       "      <td>2348.9424</td>\n",
       "    </tr>\n",
       "    <tr>\n",
       "      <th>Seafood</th>\n",
       "      <td>1833.6132</td>\n",
       "    </tr>\n",
       "    <tr>\n",
       "      <th>Snack Foods</th>\n",
       "      <td>3523.4136</td>\n",
       "    </tr>\n",
       "    <tr>\n",
       "      <th>Soft Drinks</th>\n",
       "      <td>2694.4926</td>\n",
       "    </tr>\n",
       "    <tr>\n",
       "      <th>Starchy Foods</th>\n",
       "      <td>3836.6725</td>\n",
       "    </tr>\n",
       "  </tbody>\n",
       "</table>\n",
       "</div>"
      ],
      "text/plain": [
       "                                         Item_Outlet_Sales\n",
       "Outlet_Type       Item_Type                               \n",
       "Grocery Store     Baking Goods                    223.7088\n",
       "                  Breads                          329.5710\n",
       "                  Breakfast                       352.8740\n",
       "                  Canned                          285.6282\n",
       "                  Dairy                           263.9897\n",
       "                  Frozen Foods                    229.0352\n",
       "                  Fruits and Vegetables           248.3434\n",
       "                  Hard Drinks                     145.8102\n",
       "                  Health and Hygiene              264.9884\n",
       "                  Household                       296.2810\n",
       "                  Meat                            284.2966\n",
       "                  Others                          214.3876\n",
       "                  Seafood                         179.4331\n",
       "                  Snack Foods                     309.5970\n",
       "                  Soft Drinks                     288.2914\n",
       "                  Starchy Foods                   185.0924\n",
       "Supermarket Type1 Baking Goods                   1764.7029\n",
       "                  Breads                         1980.7550\n",
       "                  Breakfast                      1877.8889\n",
       "                  Canned                         2032.0216\n",
       "                  Dairy                          1940.1412\n",
       "                  Frozen Foods                   1853.5872\n",
       "                  Fruits and Vegetables          2050.6640\n",
       "                  Hard Drinks                    1829.6184\n",
       "                  Health and Hygiene             1950.7940\n",
       "                  Household                      2245.0776\n",
       "                  Meat                           2014.7108\n",
       "                  Others                         2120.5730\n",
       "                  Seafood                        2582.6382\n",
       "                  Snack Foods                    2087.2830\n",
       "                  Soft Drinks                    1709.7744\n",
       "                  Starchy Foods                  2232.4274\n",
       "Supermarket Type2 Baking Goods                   1538.3309\n",
       "                  Breads                         1428.1410\n",
       "                  Breakfast                      1215.0850\n",
       "                  Canned                         1528.3439\n",
       "                  Dairy                          1571.2880\n",
       "                  Frozen Foods                   1648.8537\n",
       "                  Fruits and Vegetables          1593.9252\n",
       "                  Hard Drinks                    2167.5119\n",
       "                  Health and Hygiene             1592.5936\n",
       "                  Household                      1749.7224\n",
       "                  Meat                           1762.3726\n",
       "                  Others                         1613.8992\n",
       "                  Seafood                        2600.6148\n",
       "                  Snack Foods                    1871.5638\n",
       "                  Soft Drinks                    1488.0630\n",
       "                  Starchy Foods                  1656.5104\n",
       "Supermarket Type3 Baking Goods                   3146.5708\n",
       "                  Breads                         3237.1196\n",
       "                  Breakfast                      3866.9664\n",
       "                  Canned                         3460.1626\n",
       "                  Dairy                          3435.5280\n",
       "                  Frozen Foods                   3057.3536\n",
       "                  Fruits and Vegetables          3996.7974\n",
       "                  Hard Drinks                    3195.8400\n",
       "                  Health and Hygiene             3019.4030\n",
       "                  Household                      3419.5488\n",
       "                  Meat                           3300.0377\n",
       "                  Others                         2348.9424\n",
       "                  Seafood                        1833.6132\n",
       "                  Snack Foods                    3523.4136\n",
       "                  Soft Drinks                    2694.4926\n",
       "                  Starchy Foods                  3836.6725"
      ]
     },
     "execution_count": 14,
     "metadata": {},
     "output_type": "execute_result"
    }
   ],
   "source": [
    "# checking the average item sales in each outlet types\n",
    "pt = pd.pivot_table(df,values='Item_Outlet_Sales',index=['Outlet_Type','Item_Type',],aggfunc='median')\n",
    "pt"
   ]
  },
  {
   "cell_type": "code",
   "execution_count": 15,
   "id": "458e68de",
   "metadata": {},
   "outputs": [
    {
     "data": {
      "text/html": [
       "<div>\n",
       "<style scoped>\n",
       "    .dataframe tbody tr th:only-of-type {\n",
       "        vertical-align: middle;\n",
       "    }\n",
       "\n",
       "    .dataframe tbody tr th {\n",
       "        vertical-align: top;\n",
       "    }\n",
       "\n",
       "    .dataframe thead th {\n",
       "        text-align: right;\n",
       "    }\n",
       "</style>\n",
       "<table border=\"1\" class=\"dataframe\">\n",
       "  <thead>\n",
       "    <tr style=\"text-align: right;\">\n",
       "      <th></th>\n",
       "      <th>Item_Identifier</th>\n",
       "      <th>Item_Weight</th>\n",
       "      <th>Item_Fat_Content</th>\n",
       "      <th>Item_Visibility</th>\n",
       "      <th>Item_Type</th>\n",
       "      <th>Item_MRP</th>\n",
       "      <th>Outlet_Identifier</th>\n",
       "      <th>Outlet_Establishment_Year</th>\n",
       "      <th>Outlet_Size</th>\n",
       "      <th>Outlet_Location_Type</th>\n",
       "      <th>Outlet_Type</th>\n",
       "      <th>Item_Outlet_Sales</th>\n",
       "    </tr>\n",
       "  </thead>\n",
       "  <tbody>\n",
       "    <tr>\n",
       "      <th>8523</th>\n",
       "      <td>FDW58</td>\n",
       "      <td>20.750</td>\n",
       "      <td>Low Fat</td>\n",
       "      <td>0.007565</td>\n",
       "      <td>Snack Foods</td>\n",
       "      <td>107.8622</td>\n",
       "      <td>OUT049</td>\n",
       "      <td>1999</td>\n",
       "      <td>Medium</td>\n",
       "      <td>Tier 1</td>\n",
       "      <td>Supermarket Type1</td>\n",
       "      <td>NaN</td>\n",
       "    </tr>\n",
       "    <tr>\n",
       "      <th>8524</th>\n",
       "      <td>FDW14</td>\n",
       "      <td>8.300</td>\n",
       "      <td>Regular</td>\n",
       "      <td>0.038428</td>\n",
       "      <td>Dairy</td>\n",
       "      <td>87.3198</td>\n",
       "      <td>OUT017</td>\n",
       "      <td>2007</td>\n",
       "      <td>Small</td>\n",
       "      <td>Tier 2</td>\n",
       "      <td>Supermarket Type1</td>\n",
       "      <td>NaN</td>\n",
       "    </tr>\n",
       "    <tr>\n",
       "      <th>8525</th>\n",
       "      <td>NCN55</td>\n",
       "      <td>14.600</td>\n",
       "      <td>Low Fat</td>\n",
       "      <td>0.099575</td>\n",
       "      <td>Others</td>\n",
       "      <td>241.7538</td>\n",
       "      <td>OUT010</td>\n",
       "      <td>1998</td>\n",
       "      <td>Medium</td>\n",
       "      <td>Tier 3</td>\n",
       "      <td>Grocery Store</td>\n",
       "      <td>NaN</td>\n",
       "    </tr>\n",
       "    <tr>\n",
       "      <th>8526</th>\n",
       "      <td>FDQ58</td>\n",
       "      <td>7.315</td>\n",
       "      <td>Low Fat</td>\n",
       "      <td>0.015388</td>\n",
       "      <td>Snack Foods</td>\n",
       "      <td>155.0340</td>\n",
       "      <td>OUT017</td>\n",
       "      <td>2007</td>\n",
       "      <td>Small</td>\n",
       "      <td>Tier 2</td>\n",
       "      <td>Supermarket Type1</td>\n",
       "      <td>NaN</td>\n",
       "    </tr>\n",
       "    <tr>\n",
       "      <th>8527</th>\n",
       "      <td>FDY38</td>\n",
       "      <td>13.600</td>\n",
       "      <td>Regular</td>\n",
       "      <td>0.118599</td>\n",
       "      <td>Dairy</td>\n",
       "      <td>234.2300</td>\n",
       "      <td>OUT027</td>\n",
       "      <td>1985</td>\n",
       "      <td>Medium</td>\n",
       "      <td>Tier 3</td>\n",
       "      <td>Supermarket Type3</td>\n",
       "      <td>NaN</td>\n",
       "    </tr>\n",
       "    <tr>\n",
       "      <th>...</th>\n",
       "      <td>...</td>\n",
       "      <td>...</td>\n",
       "      <td>...</td>\n",
       "      <td>...</td>\n",
       "      <td>...</td>\n",
       "      <td>...</td>\n",
       "      <td>...</td>\n",
       "      <td>...</td>\n",
       "      <td>...</td>\n",
       "      <td>...</td>\n",
       "      <td>...</td>\n",
       "      <td>...</td>\n",
       "    </tr>\n",
       "    <tr>\n",
       "      <th>14199</th>\n",
       "      <td>FDB58</td>\n",
       "      <td>10.500</td>\n",
       "      <td>Regular</td>\n",
       "      <td>0.013496</td>\n",
       "      <td>Snack Foods</td>\n",
       "      <td>141.3154</td>\n",
       "      <td>OUT046</td>\n",
       "      <td>1997</td>\n",
       "      <td>Small</td>\n",
       "      <td>Tier 1</td>\n",
       "      <td>Supermarket Type1</td>\n",
       "      <td>NaN</td>\n",
       "    </tr>\n",
       "    <tr>\n",
       "      <th>14200</th>\n",
       "      <td>FDD47</td>\n",
       "      <td>7.600</td>\n",
       "      <td>Regular</td>\n",
       "      <td>0.142991</td>\n",
       "      <td>Starchy Foods</td>\n",
       "      <td>169.1448</td>\n",
       "      <td>OUT018</td>\n",
       "      <td>2009</td>\n",
       "      <td>Medium</td>\n",
       "      <td>Tier 3</td>\n",
       "      <td>Supermarket Type2</td>\n",
       "      <td>NaN</td>\n",
       "    </tr>\n",
       "    <tr>\n",
       "      <th>14201</th>\n",
       "      <td>NCO17</td>\n",
       "      <td>10.000</td>\n",
       "      <td>Low Fat</td>\n",
       "      <td>0.073529</td>\n",
       "      <td>Health and Hygiene</td>\n",
       "      <td>118.7440</td>\n",
       "      <td>OUT045</td>\n",
       "      <td>2002</td>\n",
       "      <td>Small</td>\n",
       "      <td>Tier 2</td>\n",
       "      <td>Supermarket Type1</td>\n",
       "      <td>NaN</td>\n",
       "    </tr>\n",
       "    <tr>\n",
       "      <th>14202</th>\n",
       "      <td>FDJ26</td>\n",
       "      <td>15.300</td>\n",
       "      <td>Regular</td>\n",
       "      <td>0.064709</td>\n",
       "      <td>Canned</td>\n",
       "      <td>214.6218</td>\n",
       "      <td>OUT017</td>\n",
       "      <td>2007</td>\n",
       "      <td>Small</td>\n",
       "      <td>Tier 2</td>\n",
       "      <td>Supermarket Type1</td>\n",
       "      <td>NaN</td>\n",
       "    </tr>\n",
       "    <tr>\n",
       "      <th>14203</th>\n",
       "      <td>FDU37</td>\n",
       "      <td>9.500</td>\n",
       "      <td>Regular</td>\n",
       "      <td>0.104720</td>\n",
       "      <td>Canned</td>\n",
       "      <td>79.7960</td>\n",
       "      <td>OUT045</td>\n",
       "      <td>2002</td>\n",
       "      <td>Small</td>\n",
       "      <td>Tier 2</td>\n",
       "      <td>Supermarket Type1</td>\n",
       "      <td>NaN</td>\n",
       "    </tr>\n",
       "  </tbody>\n",
       "</table>\n",
       "<p>5681 rows × 12 columns</p>\n",
       "</div>"
      ],
      "text/plain": [
       "      Item_Identifier  Item_Weight Item_Fat_Content  Item_Visibility  \\\n",
       "8523            FDW58       20.750          Low Fat         0.007565   \n",
       "8524            FDW14        8.300          Regular         0.038428   \n",
       "8525            NCN55       14.600          Low Fat         0.099575   \n",
       "8526            FDQ58        7.315          Low Fat         0.015388   \n",
       "8527            FDY38       13.600          Regular         0.118599   \n",
       "...               ...          ...              ...              ...   \n",
       "14199           FDB58       10.500          Regular         0.013496   \n",
       "14200           FDD47        7.600          Regular         0.142991   \n",
       "14201           NCO17       10.000          Low Fat         0.073529   \n",
       "14202           FDJ26       15.300          Regular         0.064709   \n",
       "14203           FDU37        9.500          Regular         0.104720   \n",
       "\n",
       "                Item_Type  Item_MRP Outlet_Identifier  \\\n",
       "8523          Snack Foods  107.8622            OUT049   \n",
       "8524                Dairy   87.3198            OUT017   \n",
       "8525               Others  241.7538            OUT010   \n",
       "8526          Snack Foods  155.0340            OUT017   \n",
       "8527                Dairy  234.2300            OUT027   \n",
       "...                   ...       ...               ...   \n",
       "14199         Snack Foods  141.3154            OUT046   \n",
       "14200       Starchy Foods  169.1448            OUT018   \n",
       "14201  Health and Hygiene  118.7440            OUT045   \n",
       "14202              Canned  214.6218            OUT017   \n",
       "14203              Canned   79.7960            OUT045   \n",
       "\n",
       "       Outlet_Establishment_Year Outlet_Size Outlet_Location_Type  \\\n",
       "8523                        1999      Medium               Tier 1   \n",
       "8524                        2007       Small               Tier 2   \n",
       "8525                        1998      Medium               Tier 3   \n",
       "8526                        2007       Small               Tier 2   \n",
       "8527                        1985      Medium               Tier 3   \n",
       "...                          ...         ...                  ...   \n",
       "14199                       1997       Small               Tier 1   \n",
       "14200                       2009      Medium               Tier 3   \n",
       "14201                       2002       Small               Tier 2   \n",
       "14202                       2007       Small               Tier 2   \n",
       "14203                       2002       Small               Tier 2   \n",
       "\n",
       "             Outlet_Type  Item_Outlet_Sales  \n",
       "8523   Supermarket Type1                NaN  \n",
       "8524   Supermarket Type1                NaN  \n",
       "8525       Grocery Store                NaN  \n",
       "8526   Supermarket Type1                NaN  \n",
       "8527   Supermarket Type3                NaN  \n",
       "...                  ...                ...  \n",
       "14199  Supermarket Type1                NaN  \n",
       "14200  Supermarket Type2                NaN  \n",
       "14201  Supermarket Type1                NaN  \n",
       "14202  Supermarket Type1                NaN  \n",
       "14203  Supermarket Type1                NaN  \n",
       "\n",
       "[5681 rows x 12 columns]"
      ]
     },
     "execution_count": 15,
     "metadata": {},
     "output_type": "execute_result"
    }
   ],
   "source": [
    "df[df.isna().any(axis=1)]"
   ]
  },
  {
   "cell_type": "code",
   "execution_count": 16,
   "id": "b4ffca3c",
   "metadata": {},
   "outputs": [],
   "source": [
    "# Imputation of Missing values\n",
    "\n",
    "df['Item_Outlet_Sales'].fillna(df.groupby(['Outlet_Type','Item_Type'])['Item_Outlet_Sales'].transform('median'), inplace = True)"
   ]
  },
  {
   "cell_type": "code",
   "execution_count": 17,
   "id": "5544c264",
   "metadata": {},
   "outputs": [
    {
     "data": {
      "text/plain": [
       "Item_Identifier              0\n",
       "Item_Weight                  0\n",
       "Item_Fat_Content             0\n",
       "Item_Visibility              0\n",
       "Item_Type                    0\n",
       "Item_MRP                     0\n",
       "Outlet_Identifier            0\n",
       "Outlet_Establishment_Year    0\n",
       "Outlet_Size                  0\n",
       "Outlet_Location_Type         0\n",
       "Outlet_Type                  0\n",
       "Item_Outlet_Sales            0\n",
       "dtype: int64"
      ]
     },
     "execution_count": 17,
     "metadata": {},
     "output_type": "execute_result"
    }
   ],
   "source": [
    "# Checking whether the missing values are imputed.\n",
    "df.isnull().sum()"
   ]
  },
  {
   "cell_type": "code",
   "execution_count": 18,
   "id": "cb46cac2",
   "metadata": {},
   "outputs": [
    {
     "data": {
      "text/html": [
       "<div>\n",
       "<style scoped>\n",
       "    .dataframe tbody tr th:only-of-type {\n",
       "        vertical-align: middle;\n",
       "    }\n",
       "\n",
       "    .dataframe tbody tr th {\n",
       "        vertical-align: top;\n",
       "    }\n",
       "\n",
       "    .dataframe thead th {\n",
       "        text-align: right;\n",
       "    }\n",
       "</style>\n",
       "<table border=\"1\" class=\"dataframe\">\n",
       "  <thead>\n",
       "    <tr style=\"text-align: right;\">\n",
       "      <th></th>\n",
       "      <th>Item_Identifier</th>\n",
       "      <th>Item_Weight</th>\n",
       "      <th>Item_Fat_Content</th>\n",
       "      <th>Item_Visibility</th>\n",
       "      <th>Item_Type</th>\n",
       "      <th>Item_MRP</th>\n",
       "      <th>Outlet_Identifier</th>\n",
       "      <th>Outlet_Establishment_Year</th>\n",
       "      <th>Outlet_Size</th>\n",
       "      <th>Outlet_Location_Type</th>\n",
       "      <th>Outlet_Type</th>\n",
       "      <th>Item_Outlet_Sales</th>\n",
       "    </tr>\n",
       "  </thead>\n",
       "  <tbody>\n",
       "    <tr>\n",
       "      <th>0</th>\n",
       "      <td>FDA15</td>\n",
       "      <td>9.300</td>\n",
       "      <td>Low Fat</td>\n",
       "      <td>0.016047</td>\n",
       "      <td>Dairy</td>\n",
       "      <td>249.8092</td>\n",
       "      <td>OUT049</td>\n",
       "      <td>1999</td>\n",
       "      <td>Medium</td>\n",
       "      <td>Tier 1</td>\n",
       "      <td>Supermarket Type1</td>\n",
       "      <td>3735.1380</td>\n",
       "    </tr>\n",
       "    <tr>\n",
       "      <th>1</th>\n",
       "      <td>DRC01</td>\n",
       "      <td>5.920</td>\n",
       "      <td>Regular</td>\n",
       "      <td>0.019278</td>\n",
       "      <td>Soft Drinks</td>\n",
       "      <td>48.2692</td>\n",
       "      <td>OUT018</td>\n",
       "      <td>2009</td>\n",
       "      <td>Medium</td>\n",
       "      <td>Tier 3</td>\n",
       "      <td>Supermarket Type2</td>\n",
       "      <td>443.4228</td>\n",
       "    </tr>\n",
       "    <tr>\n",
       "      <th>2</th>\n",
       "      <td>FDN15</td>\n",
       "      <td>17.500</td>\n",
       "      <td>Low Fat</td>\n",
       "      <td>0.016760</td>\n",
       "      <td>Meat</td>\n",
       "      <td>141.6180</td>\n",
       "      <td>OUT049</td>\n",
       "      <td>1999</td>\n",
       "      <td>Medium</td>\n",
       "      <td>Tier 1</td>\n",
       "      <td>Supermarket Type1</td>\n",
       "      <td>2097.2700</td>\n",
       "    </tr>\n",
       "    <tr>\n",
       "      <th>3</th>\n",
       "      <td>FDX07</td>\n",
       "      <td>19.200</td>\n",
       "      <td>Regular</td>\n",
       "      <td>0.074402</td>\n",
       "      <td>Fruits and Vegetables</td>\n",
       "      <td>182.0950</td>\n",
       "      <td>OUT010</td>\n",
       "      <td>1998</td>\n",
       "      <td>Medium</td>\n",
       "      <td>Tier 3</td>\n",
       "      <td>Grocery Store</td>\n",
       "      <td>732.3800</td>\n",
       "    </tr>\n",
       "    <tr>\n",
       "      <th>4</th>\n",
       "      <td>NCD19</td>\n",
       "      <td>8.930</td>\n",
       "      <td>Low Fat</td>\n",
       "      <td>0.064299</td>\n",
       "      <td>Household</td>\n",
       "      <td>53.8614</td>\n",
       "      <td>OUT013</td>\n",
       "      <td>1987</td>\n",
       "      <td>High</td>\n",
       "      <td>Tier 3</td>\n",
       "      <td>Supermarket Type1</td>\n",
       "      <td>994.7052</td>\n",
       "    </tr>\n",
       "    <tr>\n",
       "      <th>5</th>\n",
       "      <td>FDP36</td>\n",
       "      <td>10.395</td>\n",
       "      <td>Regular</td>\n",
       "      <td>0.074402</td>\n",
       "      <td>Baking Goods</td>\n",
       "      <td>51.4008</td>\n",
       "      <td>OUT018</td>\n",
       "      <td>2009</td>\n",
       "      <td>Medium</td>\n",
       "      <td>Tier 3</td>\n",
       "      <td>Supermarket Type2</td>\n",
       "      <td>556.6088</td>\n",
       "    </tr>\n",
       "    <tr>\n",
       "      <th>6</th>\n",
       "      <td>FDO10</td>\n",
       "      <td>13.650</td>\n",
       "      <td>Regular</td>\n",
       "      <td>0.012741</td>\n",
       "      <td>Snack Foods</td>\n",
       "      <td>57.6588</td>\n",
       "      <td>OUT013</td>\n",
       "      <td>1987</td>\n",
       "      <td>High</td>\n",
       "      <td>Tier 3</td>\n",
       "      <td>Supermarket Type1</td>\n",
       "      <td>343.5528</td>\n",
       "    </tr>\n",
       "    <tr>\n",
       "      <th>7</th>\n",
       "      <td>FDP10</td>\n",
       "      <td>19.000</td>\n",
       "      <td>Low Fat</td>\n",
       "      <td>0.127470</td>\n",
       "      <td>Snack Foods</td>\n",
       "      <td>107.7622</td>\n",
       "      <td>OUT027</td>\n",
       "      <td>1985</td>\n",
       "      <td>Medium</td>\n",
       "      <td>Tier 3</td>\n",
       "      <td>Supermarket Type3</td>\n",
       "      <td>4022.7636</td>\n",
       "    </tr>\n",
       "    <tr>\n",
       "      <th>8</th>\n",
       "      <td>FDH17</td>\n",
       "      <td>16.200</td>\n",
       "      <td>Regular</td>\n",
       "      <td>0.016687</td>\n",
       "      <td>Frozen Foods</td>\n",
       "      <td>96.9726</td>\n",
       "      <td>OUT045</td>\n",
       "      <td>2002</td>\n",
       "      <td>Small</td>\n",
       "      <td>Tier 2</td>\n",
       "      <td>Supermarket Type1</td>\n",
       "      <td>1076.5986</td>\n",
       "    </tr>\n",
       "    <tr>\n",
       "      <th>9</th>\n",
       "      <td>FDU28</td>\n",
       "      <td>19.200</td>\n",
       "      <td>Regular</td>\n",
       "      <td>0.094450</td>\n",
       "      <td>Frozen Foods</td>\n",
       "      <td>187.8214</td>\n",
       "      <td>OUT017</td>\n",
       "      <td>2007</td>\n",
       "      <td>Small</td>\n",
       "      <td>Tier 2</td>\n",
       "      <td>Supermarket Type1</td>\n",
       "      <td>4710.5350</td>\n",
       "    </tr>\n",
       "  </tbody>\n",
       "</table>\n",
       "</div>"
      ],
      "text/plain": [
       "  Item_Identifier  Item_Weight Item_Fat_Content  Item_Visibility  \\\n",
       "0           FDA15        9.300          Low Fat         0.016047   \n",
       "1           DRC01        5.920          Regular         0.019278   \n",
       "2           FDN15       17.500          Low Fat         0.016760   \n",
       "3           FDX07       19.200          Regular         0.074402   \n",
       "4           NCD19        8.930          Low Fat         0.064299   \n",
       "5           FDP36       10.395          Regular         0.074402   \n",
       "6           FDO10       13.650          Regular         0.012741   \n",
       "7           FDP10       19.000          Low Fat         0.127470   \n",
       "8           FDH17       16.200          Regular         0.016687   \n",
       "9           FDU28       19.200          Regular         0.094450   \n",
       "\n",
       "               Item_Type  Item_MRP Outlet_Identifier  \\\n",
       "0                  Dairy  249.8092            OUT049   \n",
       "1            Soft Drinks   48.2692            OUT018   \n",
       "2                   Meat  141.6180            OUT049   \n",
       "3  Fruits and Vegetables  182.0950            OUT010   \n",
       "4              Household   53.8614            OUT013   \n",
       "5           Baking Goods   51.4008            OUT018   \n",
       "6            Snack Foods   57.6588            OUT013   \n",
       "7            Snack Foods  107.7622            OUT027   \n",
       "8           Frozen Foods   96.9726            OUT045   \n",
       "9           Frozen Foods  187.8214            OUT017   \n",
       "\n",
       "   Outlet_Establishment_Year Outlet_Size Outlet_Location_Type  \\\n",
       "0                       1999      Medium               Tier 1   \n",
       "1                       2009      Medium               Tier 3   \n",
       "2                       1999      Medium               Tier 1   \n",
       "3                       1998      Medium               Tier 3   \n",
       "4                       1987        High               Tier 3   \n",
       "5                       2009      Medium               Tier 3   \n",
       "6                       1987        High               Tier 3   \n",
       "7                       1985      Medium               Tier 3   \n",
       "8                       2002       Small               Tier 2   \n",
       "9                       2007       Small               Tier 2   \n",
       "\n",
       "         Outlet_Type  Item_Outlet_Sales  \n",
       "0  Supermarket Type1          3735.1380  \n",
       "1  Supermarket Type2           443.4228  \n",
       "2  Supermarket Type1          2097.2700  \n",
       "3      Grocery Store           732.3800  \n",
       "4  Supermarket Type1           994.7052  \n",
       "5  Supermarket Type2           556.6088  \n",
       "6  Supermarket Type1           343.5528  \n",
       "7  Supermarket Type3          4022.7636  \n",
       "8  Supermarket Type1          1076.5986  \n",
       "9  Supermarket Type1          4710.5350  "
      ]
     },
     "execution_count": 18,
     "metadata": {},
     "output_type": "execute_result"
    }
   ],
   "source": [
    "df.head(10)"
   ]
  },
  {
   "cell_type": "code",
   "execution_count": 19,
   "id": "d6a4031a",
   "metadata": {},
   "outputs": [
    {
     "data": {
      "text/plain": [
       "Item_Identifier                          FDW58\n",
       "Item_Weight                              20.75\n",
       "Item_Fat_Content                       Low Fat\n",
       "Item_Visibility                       0.007565\n",
       "Item_Type                          Snack Foods\n",
       "Item_MRP                              107.8622\n",
       "Outlet_Identifier                       OUT049\n",
       "Outlet_Establishment_Year                 1999\n",
       "Outlet_Size                             Medium\n",
       "Outlet_Location_Type                    Tier 1\n",
       "Outlet_Type                  Supermarket Type1\n",
       "Item_Outlet_Sales                     2087.283\n",
       "Name: 8523, dtype: object"
      ]
     },
     "execution_count": 19,
     "metadata": {},
     "output_type": "execute_result"
    }
   ],
   "source": [
    "# just checking one of the missing value of the imputed value\n",
    "df.loc[8523,:]"
   ]
  },
  {
   "cell_type": "markdown",
   "id": "f9453ecc",
   "metadata": {},
   "source": [
    "### Visualizations"
   ]
  },
  {
   "cell_type": "markdown",
   "id": "a87a8cfb",
   "metadata": {},
   "source": [
    "### Sales in Outlet Types"
   ]
  },
  {
   "cell_type": "code",
   "execution_count": 20,
   "id": "4a4d9b46",
   "metadata": {},
   "outputs": [
    {
     "data": {
      "image/png": "[encoded data removed]",
      "text/plain": [
       "<Figure size 720x360 with 1 Axes>"
      ]
     },
     "metadata": {},
     "output_type": "display_data"
    }
   ],
   "source": [
    "# Sales done in Each Outlets\n",
    "data = df.groupby(['Outlet_Type'])['Item_Outlet_Sales'].mean()\n",
    "\n",
    "plt.figure(figsize=(10,5))\n",
    "plt.pie(data.values,data=df,labels=data.index,autopct='%.2f%%')\n",
    "plt.title('Sales of Outlet Types',fontsize=20)\n",
    "plt.show()"
   ]
  },
  {
   "cell_type": "markdown",
   "id": "6b2af89e",
   "metadata": {},
   "source": [
    "**Interpretation**: \n",
    "- Sales of Items are more in Supermarket Type 3 with 44.94% comparing to other outlet types.\n",
    "- Sales of Items are least in Grocery Store with only 3.91% of overall Sales."
   ]
  },
  {
   "cell_type": "markdown",
   "id": "0d087c56",
   "metadata": {},
   "source": [
    "### Overall Sales of Each Items in Market "
   ]
  },
  {
   "cell_type": "code",
   "execution_count": 21,
   "id": "5357b691",
   "metadata": {},
   "outputs": [
    {
     "data": {
      "image/png": "[encoded data removed]",
      "text/plain": [
       "<Figure size 720x504 with 1 Axes>"
      ]
     },
     "metadata": {
      "needs_background": "light"
     },
     "output_type": "display_data"
    }
   ],
   "source": [
    "data = df.groupby('Item_Type')['Item_Outlet_Sales'].mean()\n",
    "data = data.sort_values(ascending=False)\n",
    "\n",
    "plt.figure(figsize=(10,7))\n",
    "sb.barplot(y=data.index,x=data.values)\n",
    "plt.title('Sales of Item Types',fontsize=20)\n",
    "plt.yticks(fontsize=12)\n",
    "plt.show()"
   ]
  },
  {
   "cell_type": "markdown",
   "id": "dca95145",
   "metadata": {},
   "source": [
    "**Interpretation**:\n",
    "- Sales of Seafood is more in the markets than other items.\n",
    "- Second Highest Sales is by Starchy Food Items.\n",
    "- Items like Snack foods, Dairy, Fruits and vegetables and Households are also having good sales in the markets.\n",
    "- Baking goods has the least sales compared to the other item types."
   ]
  },
  {
   "cell_type": "markdown",
   "id": "eb6872f7",
   "metadata": {},
   "source": [
    "### Sales of Fat content items"
   ]
  },
  {
   "cell_type": "code",
   "execution_count": 22,
   "id": "be802584",
   "metadata": {},
   "outputs": [
    {
     "data": {
      "text/html": [
       "<div>\n",
       "<style scoped>\n",
       "    .dataframe tbody tr th:only-of-type {\n",
       "        vertical-align: middle;\n",
       "    }\n",
       "\n",
       "    .dataframe tbody tr th {\n",
       "        vertical-align: top;\n",
       "    }\n",
       "\n",
       "    .dataframe thead th {\n",
       "        text-align: right;\n",
       "    }\n",
       "</style>\n",
       "<table border=\"1\" class=\"dataframe\">\n",
       "  <thead>\n",
       "    <tr style=\"text-align: right;\">\n",
       "      <th></th>\n",
       "      <th>Item_Outlet_Sales</th>\n",
       "    </tr>\n",
       "    <tr>\n",
       "      <th>Item_Fat_Content</th>\n",
       "      <th></th>\n",
       "    </tr>\n",
       "  </thead>\n",
       "  <tbody>\n",
       "    <tr>\n",
       "      <th>Low Fat</th>\n",
       "      <td>2055.083071</td>\n",
       "    </tr>\n",
       "    <tr>\n",
       "      <th>Regular</th>\n",
       "      <td>2084.581131</td>\n",
       "    </tr>\n",
       "  </tbody>\n",
       "</table>\n",
       "</div>"
      ],
      "text/plain": [
       "                  Item_Outlet_Sales\n",
       "Item_Fat_Content                   \n",
       "Low Fat                 2055.083071\n",
       "Regular                 2084.581131"
      ]
     },
     "execution_count": 22,
     "metadata": {},
     "output_type": "execute_result"
    }
   ],
   "source": [
    "data = pd.pivot_table(df,values='Item_Outlet_Sales',index='Item_Fat_Content',aggfunc='mean')\n",
    "data"
   ]
  },
  {
   "cell_type": "markdown",
   "id": "69594230",
   "metadata": {},
   "source": [
    "**Interpretation**: The Average Sales of Regular fat items is higher that low fat items."
   ]
  },
  {
   "cell_type": "markdown",
   "id": "58f9b956",
   "metadata": {},
   "source": [
    "### Distribution of Sales of each Outlet Types"
   ]
  },
  {
   "cell_type": "code",
   "execution_count": 23,
   "id": "967799f1",
   "metadata": {},
   "outputs": [
    {
     "data": {
      "text/plain": [
       "Text(0.5, 1.0, 'Grocery Store')"
      ]
     },
     "execution_count": 23,
     "metadata": {},
     "output_type": "execute_result"
    },
    {
     "data": {
      "image/png": "[encoded data removed]",
      "text/plain": [
       "<Figure size 720x360 with 4 Axes>"
      ]
     },
     "metadata": {
      "needs_background": "light"
     },
     "output_type": "display_data"
    }
   ],
   "source": [
    "ax,fig = plt.subplots(2,2,figsize=(10,5),tight_layout=True)\n",
    "plt.subplot(2,2,1)\n",
    "sb.boxplot(df['Item_Outlet_Sales'][df['Outlet_Type']=='Supermarket Type1'])\n",
    "plt.title('Supermarket Type1')\n",
    "\n",
    "plt.subplot(2,2,2)\n",
    "sb.boxplot(df['Item_Outlet_Sales'][df['Outlet_Type']=='Supermarket Type2'],color='r')\n",
    "plt.title('Supermarket Type2')\n",
    "\n",
    "plt.subplot(2,2,3)\n",
    "sb.boxplot(df['Item_Outlet_Sales'][df['Outlet_Type']=='Supermarket Type3'],color='y')\n",
    "plt.title('Supermarket Type3')\n",
    "\n",
    "plt.subplot(2,2,4)\n",
    "sb.boxplot(df['Item_Outlet_Sales'][df['Outlet_Type']=='Grocery Store'],color='g')\n",
    "plt.title('Grocery Store')"
   ]
  },
  {
   "cell_type": "markdown",
   "id": "fc5380d8",
   "metadata": {},
   "source": [
    "**Interpretation**:\n",
    "- Most sales of Supermarket type 1 ranges between 1500 to 2500.\n",
    "- Most sales of Supermarket type 2 ranges between 1500 to 2000.\n",
    "- Most sales of Supermarket type 3 ranges between 3000 to 4000.\n",
    "- Most sales of Grocery Store ranges between 200 to 350.\n",
    "- There are outliers in sales of all supermarkets and grocery store."
   ]
  },
  {
   "cell_type": "markdown",
   "id": "842582ff",
   "metadata": {},
   "source": [
    "### Most Popular Item:"
   ]
  },
  {
   "cell_type": "code",
   "execution_count": 24,
   "id": "048bd1ad",
   "metadata": {},
   "outputs": [
    {
     "data": {
      "text/plain": [
       "Fruits and Vegetables    2013\n",
       "Snack Foods              1989\n",
       "Household                1548\n",
       "Frozen Foods             1426\n",
       "Dairy                    1136\n",
       "Baking Goods             1086\n",
       "Canned                   1084\n",
       "Health and Hygiene        858\n",
       "Meat                      736\n",
       "Soft Drinks               726\n",
       "Breads                    416\n",
       "Hard Drinks               362\n",
       "Others                    280\n",
       "Starchy Foods             269\n",
       "Breakfast                 186\n",
       "Seafood                    89\n",
       "Name: Item_Type, dtype: int64"
      ]
     },
     "execution_count": 24,
     "metadata": {},
     "output_type": "execute_result"
    }
   ],
   "source": [
    "df['Item_Type'].value_counts()"
   ]
  },
  {
   "cell_type": "code",
   "execution_count": 25,
   "id": "4f256a5e",
   "metadata": {},
   "outputs": [
    {
     "data": {
      "image/png": "[encoded data removed]",
      "text/plain": [
       "<Figure size 1800x360 with 1 Axes>"
      ]
     },
     "metadata": {
      "needs_background": "light"
     },
     "output_type": "display_data"
    }
   ],
   "source": [
    "plt.figure(figsize=(25,5))\n",
    "sb.countplot(df['Item_Type'])\n",
    "plt.title('Most Popular Item',fontsize=20)\n",
    "plt.show()"
   ]
  },
  {
   "cell_type": "markdown",
   "id": "9df3037e",
   "metadata": {},
   "source": [
    "**Interpretation**: \n",
    "- Fruits and vegetables is the most popular item in the markets.\n",
    "- The second most popular item is the Snack foods.\n",
    "- The Seafood is the least popular but the Sales price of it is the highest when compared to the other item types."
   ]
  },
  {
   "cell_type": "markdown",
   "id": "46915135",
   "metadata": {},
   "source": [
    "### Sales over Outlet Establishment Years"
   ]
  },
  {
   "cell_type": "code",
   "execution_count": 26,
   "id": "d69b4767",
   "metadata": {},
   "outputs": [
    {
     "data": {
      "text/plain": [
       "<AxesSubplot:xlabel='Outlet_Establishment_Year'>"
      ]
     },
     "execution_count": 26,
     "metadata": {},
     "output_type": "execute_result"
    },
    {
     "data": {
      "image/png": "[encoded data removed]",
      "text/plain": [
       "<Figure size 720x360 with 1 Axes>"
      ]
     },
     "metadata": {
      "needs_background": "light"
     },
     "output_type": "display_data"
    }
   ],
   "source": [
    "data = df.groupby(['Outlet_Establishment_Year'])['Item_Outlet_Sales'].mean()\n",
    "\n",
    "plt.figure(figsize=(10,5))\n",
    "data.plot()"
   ]
  },
  {
   "cell_type": "markdown",
   "id": "fa6f398c",
   "metadata": {},
   "source": [
    "**Interpretation**: \n",
    "- The Sales has a drastic fall between the years of 1995 to 2000."
   ]
  },
  {
   "cell_type": "markdown",
   "id": "11b08d99",
   "metadata": {},
   "source": [
    "### Item Visiblity and its Sales in the Markets"
   ]
  },
  {
   "cell_type": "code",
   "execution_count": 27,
   "id": "931e1331",
   "metadata": {},
   "outputs": [
    {
     "data": {
      "text/html": [
       "<div>\n",
       "<style scoped>\n",
       "    .dataframe tbody tr th:only-of-type {\n",
       "        vertical-align: middle;\n",
       "    }\n",
       "\n",
       "    .dataframe tbody tr th {\n",
       "        vertical-align: top;\n",
       "    }\n",
       "\n",
       "    .dataframe thead th {\n",
       "        text-align: right;\n",
       "    }\n",
       "</style>\n",
       "<table border=\"1\" class=\"dataframe\">\n",
       "  <thead>\n",
       "    <tr style=\"text-align: right;\">\n",
       "      <th></th>\n",
       "      <th>Item_Outlet_Sales</th>\n",
       "      <th>Item_Visibility</th>\n",
       "    </tr>\n",
       "    <tr>\n",
       "      <th>Item_Type</th>\n",
       "      <th></th>\n",
       "      <th></th>\n",
       "    </tr>\n",
       "  </thead>\n",
       "  <tbody>\n",
       "    <tr>\n",
       "      <th>Baking Goods</th>\n",
       "      <td>1853.406956</td>\n",
       "      <td>0.073074</td>\n",
       "    </tr>\n",
       "    <tr>\n",
       "      <th>Breads</th>\n",
       "      <td>2034.673597</td>\n",
       "      <td>0.073498</td>\n",
       "    </tr>\n",
       "    <tr>\n",
       "      <th>Breakfast</th>\n",
       "      <td>2026.573495</td>\n",
       "      <td>0.085882</td>\n",
       "    </tr>\n",
       "    <tr>\n",
       "      <th>Canned</th>\n",
       "      <td>2096.811495</td>\n",
       "      <td>0.071727</td>\n",
       "    </tr>\n",
       "    <tr>\n",
       "      <th>Dairy</th>\n",
       "      <td>2103.175751</td>\n",
       "      <td>0.075403</td>\n",
       "    </tr>\n",
       "    <tr>\n",
       "      <th>Frozen Foods</th>\n",
       "      <td>1970.072318</td>\n",
       "      <td>0.071720</td>\n",
       "    </tr>\n",
       "    <tr>\n",
       "      <th>Fruits and Vegetables</th>\n",
       "      <td>2155.437371</td>\n",
       "      <td>0.073110</td>\n",
       "    </tr>\n",
       "    <tr>\n",
       "      <th>Hard Drinks</th>\n",
       "      <td>1999.642937</td>\n",
       "      <td>0.070340</td>\n",
       "    </tr>\n",
       "    <tr>\n",
       "      <th>Health and Hygiene</th>\n",
       "      <td>1935.516296</td>\n",
       "      <td>0.060995</td>\n",
       "    </tr>\n",
       "    <tr>\n",
       "      <th>Household</th>\n",
       "      <td>2185.448070</td>\n",
       "      <td>0.063563</td>\n",
       "    </tr>\n",
       "    <tr>\n",
       "      <th>Meat</th>\n",
       "      <td>2046.670105</td>\n",
       "      <td>0.064175</td>\n",
       "    </tr>\n",
       "    <tr>\n",
       "      <th>Others</th>\n",
       "      <td>1908.855734</td>\n",
       "      <td>0.062151</td>\n",
       "    </tr>\n",
       "    <tr>\n",
       "      <th>Seafood</th>\n",
       "      <td>2373.494710</td>\n",
       "      <td>0.074277</td>\n",
       "    </tr>\n",
       "    <tr>\n",
       "      <th>Snack Foods</th>\n",
       "      <td>2169.310631</td>\n",
       "      <td>0.071406</td>\n",
       "    </tr>\n",
       "    <tr>\n",
       "      <th>Soft Drinks</th>\n",
       "      <td>1860.219522</td>\n",
       "      <td>0.069934</td>\n",
       "    </tr>\n",
       "    <tr>\n",
       "      <th>Starchy Foods</th>\n",
       "      <td>2256.314522</td>\n",
       "      <td>0.072707</td>\n",
       "    </tr>\n",
       "  </tbody>\n",
       "</table>\n",
       "</div>"
      ],
      "text/plain": [
       "                       Item_Outlet_Sales  Item_Visibility\n",
       "Item_Type                                                \n",
       "Baking Goods                 1853.406956         0.073074\n",
       "Breads                       2034.673597         0.073498\n",
       "Breakfast                    2026.573495         0.085882\n",
       "Canned                       2096.811495         0.071727\n",
       "Dairy                        2103.175751         0.075403\n",
       "Frozen Foods                 1970.072318         0.071720\n",
       "Fruits and Vegetables        2155.437371         0.073110\n",
       "Hard Drinks                  1999.642937         0.070340\n",
       "Health and Hygiene           1935.516296         0.060995\n",
       "Household                    2185.448070         0.063563\n",
       "Meat                         2046.670105         0.064175\n",
       "Others                       1908.855734         0.062151\n",
       "Seafood                      2373.494710         0.074277\n",
       "Snack Foods                  2169.310631         0.071406\n",
       "Soft Drinks                  1860.219522         0.069934\n",
       "Starchy Foods                2256.314522         0.072707"
      ]
     },
     "execution_count": 27,
     "metadata": {},
     "output_type": "execute_result"
    }
   ],
   "source": [
    "pd.pivot_table(values=['Item_Visibility','Item_Outlet_Sales'],index=['Item_Type'],aggfunc='mean',data=df)"
   ]
  },
  {
   "cell_type": "markdown",
   "id": "57d6d7f6",
   "metadata": {},
   "source": [
    "**Interpretation**:\n",
    "- The avg visibility of breakfast is more but the sales is moderate.\n",
    "- Seafood which has high avg sales in the markets have a good visibility in the markets."
   ]
  },
  {
   "cell_type": "markdown",
   "id": "89bd41cd",
   "metadata": {},
   "source": [
    "### Converting Non numeric dtypes to Categorical and Label encoding them"
   ]
  },
  {
   "cell_type": "code",
   "execution_count": 28,
   "id": "34a7c6f6",
   "metadata": {},
   "outputs": [
    {
     "data": {
      "text/html": [
       "<div>\n",
       "<style scoped>\n",
       "    .dataframe tbody tr th:only-of-type {\n",
       "        vertical-align: middle;\n",
       "    }\n",
       "\n",
       "    .dataframe tbody tr th {\n",
       "        vertical-align: top;\n",
       "    }\n",
       "\n",
       "    .dataframe thead th {\n",
       "        text-align: right;\n",
       "    }\n",
       "</style>\n",
       "<table border=\"1\" class=\"dataframe\">\n",
       "  <thead>\n",
       "    <tr style=\"text-align: right;\">\n",
       "      <th></th>\n",
       "      <th>Item_Identifier</th>\n",
       "      <th>Item_Weight</th>\n",
       "      <th>Item_Fat_Content</th>\n",
       "      <th>Item_Visibility</th>\n",
       "      <th>Item_Type</th>\n",
       "      <th>Item_MRP</th>\n",
       "      <th>Outlet_Identifier</th>\n",
       "      <th>Outlet_Establishment_Year</th>\n",
       "      <th>Outlet_Size</th>\n",
       "      <th>Outlet_Location_Type</th>\n",
       "      <th>Outlet_Type</th>\n",
       "      <th>Item_Outlet_Sales</th>\n",
       "      <th>Item_Identifier_encode</th>\n",
       "      <th>Item_Fat_Content_encode</th>\n",
       "      <th>Item_Type_encode</th>\n",
       "      <th>Outlet_Identifier_encode</th>\n",
       "      <th>Outlet_Size_encode</th>\n",
       "      <th>Outlet_Location_Type_encode</th>\n",
       "      <th>Outlet_Type_encode</th>\n",
       "    </tr>\n",
       "  </thead>\n",
       "  <tbody>\n",
       "    <tr>\n",
       "      <th>0</th>\n",
       "      <td>FDA15</td>\n",
       "      <td>9.30</td>\n",
       "      <td>Low Fat</td>\n",
       "      <td>0.016047</td>\n",
       "      <td>Dairy</td>\n",
       "      <td>249.8092</td>\n",
       "      <td>OUT049</td>\n",
       "      <td>1999</td>\n",
       "      <td>Medium</td>\n",
       "      <td>Tier 1</td>\n",
       "      <td>Supermarket Type1</td>\n",
       "      <td>3735.1380</td>\n",
       "      <td>156</td>\n",
       "      <td>0</td>\n",
       "      <td>4</td>\n",
       "      <td>9</td>\n",
       "      <td>1</td>\n",
       "      <td>0</td>\n",
       "      <td>1</td>\n",
       "    </tr>\n",
       "    <tr>\n",
       "      <th>1</th>\n",
       "      <td>DRC01</td>\n",
       "      <td>5.92</td>\n",
       "      <td>Regular</td>\n",
       "      <td>0.019278</td>\n",
       "      <td>Soft Drinks</td>\n",
       "      <td>48.2692</td>\n",
       "      <td>OUT018</td>\n",
       "      <td>2009</td>\n",
       "      <td>Medium</td>\n",
       "      <td>Tier 3</td>\n",
       "      <td>Supermarket Type2</td>\n",
       "      <td>443.4228</td>\n",
       "      <td>8</td>\n",
       "      <td>1</td>\n",
       "      <td>14</td>\n",
       "      <td>3</td>\n",
       "      <td>1</td>\n",
       "      <td>2</td>\n",
       "      <td>2</td>\n",
       "    </tr>\n",
       "    <tr>\n",
       "      <th>2</th>\n",
       "      <td>FDN15</td>\n",
       "      <td>17.50</td>\n",
       "      <td>Low Fat</td>\n",
       "      <td>0.016760</td>\n",
       "      <td>Meat</td>\n",
       "      <td>141.6180</td>\n",
       "      <td>OUT049</td>\n",
       "      <td>1999</td>\n",
       "      <td>Medium</td>\n",
       "      <td>Tier 1</td>\n",
       "      <td>Supermarket Type1</td>\n",
       "      <td>2097.2700</td>\n",
       "      <td>662</td>\n",
       "      <td>0</td>\n",
       "      <td>10</td>\n",
       "      <td>9</td>\n",
       "      <td>1</td>\n",
       "      <td>0</td>\n",
       "      <td>1</td>\n",
       "    </tr>\n",
       "    <tr>\n",
       "      <th>3</th>\n",
       "      <td>FDX07</td>\n",
       "      <td>19.20</td>\n",
       "      <td>Regular</td>\n",
       "      <td>0.074402</td>\n",
       "      <td>Fruits and Vegetables</td>\n",
       "      <td>182.0950</td>\n",
       "      <td>OUT010</td>\n",
       "      <td>1998</td>\n",
       "      <td>Medium</td>\n",
       "      <td>Tier 3</td>\n",
       "      <td>Grocery Store</td>\n",
       "      <td>732.3800</td>\n",
       "      <td>1121</td>\n",
       "      <td>1</td>\n",
       "      <td>6</td>\n",
       "      <td>0</td>\n",
       "      <td>1</td>\n",
       "      <td>2</td>\n",
       "      <td>0</td>\n",
       "    </tr>\n",
       "    <tr>\n",
       "      <th>4</th>\n",
       "      <td>NCD19</td>\n",
       "      <td>8.93</td>\n",
       "      <td>Low Fat</td>\n",
       "      <td>0.064299</td>\n",
       "      <td>Household</td>\n",
       "      <td>53.8614</td>\n",
       "      <td>OUT013</td>\n",
       "      <td>1987</td>\n",
       "      <td>High</td>\n",
       "      <td>Tier 3</td>\n",
       "      <td>Supermarket Type1</td>\n",
       "      <td>994.7052</td>\n",
       "      <td>1297</td>\n",
       "      <td>0</td>\n",
       "      <td>9</td>\n",
       "      <td>1</td>\n",
       "      <td>0</td>\n",
       "      <td>2</td>\n",
       "      <td>1</td>\n",
       "    </tr>\n",
       "  </tbody>\n",
       "</table>\n",
       "</div>"
      ],
      "text/plain": [
       "  Item_Identifier  Item_Weight Item_Fat_Content  Item_Visibility  \\\n",
       "0           FDA15         9.30          Low Fat         0.016047   \n",
       "1           DRC01         5.92          Regular         0.019278   \n",
       "2           FDN15        17.50          Low Fat         0.016760   \n",
       "3           FDX07        19.20          Regular         0.074402   \n",
       "4           NCD19         8.93          Low Fat         0.064299   \n",
       "\n",
       "               Item_Type  Item_MRP Outlet_Identifier  \\\n",
       "0                  Dairy  249.8092            OUT049   \n",
       "1            Soft Drinks   48.2692            OUT018   \n",
       "2                   Meat  141.6180            OUT049   \n",
       "3  Fruits and Vegetables  182.0950            OUT010   \n",
       "4              Household   53.8614            OUT013   \n",
       "\n",
       "   Outlet_Establishment_Year Outlet_Size Outlet_Location_Type  \\\n",
       "0                       1999      Medium               Tier 1   \n",
       "1                       2009      Medium               Tier 3   \n",
       "2                       1999      Medium               Tier 1   \n",
       "3                       1998      Medium               Tier 3   \n",
       "4                       1987        High               Tier 3   \n",
       "\n",
       "         Outlet_Type  Item_Outlet_Sales  Item_Identifier_encode  \\\n",
       "0  Supermarket Type1          3735.1380                     156   \n",
       "1  Supermarket Type2           443.4228                       8   \n",
       "2  Supermarket Type1          2097.2700                     662   \n",
       "3      Grocery Store           732.3800                    1121   \n",
       "4  Supermarket Type1           994.7052                    1297   \n",
       "\n",
       "   Item_Fat_Content_encode  Item_Type_encode  Outlet_Identifier_encode  \\\n",
       "0                        0                 4                         9   \n",
       "1                        1                14                         3   \n",
       "2                        0                10                         9   \n",
       "3                        1                 6                         0   \n",
       "4                        0                 9                         1   \n",
       "\n",
       "   Outlet_Size_encode  Outlet_Location_Type_encode  Outlet_Type_encode  \n",
       "0                   1                            0                   1  \n",
       "1                   1                            2                   2  \n",
       "2                   1                            0                   1  \n",
       "3                   1                            2                   0  \n",
       "4                   0                            2                   1  "
      ]
     },
     "execution_count": 28,
     "metadata": {},
     "output_type": "execute_result"
    }
   ],
   "source": [
    "df1 = df.select_dtypes(include='object')\n",
    "label_encoder = preprocessing.LabelEncoder()\n",
    "\n",
    "for col in df1.columns:\n",
    "    df[col] = df[col].astype('category')                      # converting to category type\n",
    "    df[col+'_encode'] = label_encoder.fit_transform(df[col])  # label encoding\n",
    "    \n",
    "df.head()"
   ]
  },
  {
   "cell_type": "markdown",
   "id": "657cef6a",
   "metadata": {},
   "source": [
    "### Feature Selection"
   ]
  },
  {
   "cell_type": "code",
   "execution_count": 29,
   "id": "631a4a9e",
   "metadata": {},
   "outputs": [
    {
     "data": {
      "text/plain": [
       "<AxesSubplot:>"
      ]
     },
     "execution_count": 29,
     "metadata": {},
     "output_type": "execute_result"
    },
    {
     "data": {
      "image/png": "[encoded data removed]",
      "text/plain": [
       "<Figure size 1080x504 with 2 Axes>"
      ]
     },
     "metadata": {
      "needs_background": "light"
     },
     "output_type": "display_data"
    }
   ],
   "source": [
    "# Heatmap\n",
    "cor = df.corr()\n",
    "plt.figure(figsize=(15,7))\n",
    "sb.heatmap(cor,annot=True)"
   ]
  },
  {
   "cell_type": "code",
   "execution_count": 31,
   "id": "f6bda659",
   "metadata": {},
   "outputs": [
    {
     "data": {
      "text/plain": [
       "Item_Outlet_Sales              1.000000\n",
       "Outlet_Type_encode             0.467708\n",
       "Item_MRP                       0.412445\n",
       "Outlet_Identifier_encode       0.187744\n",
       "Item_Visibility                0.148919\n",
       "Outlet_Location_Type_encode    0.105687\n",
       "Outlet_Size_encode             0.070887\n",
       "Outlet_Establishment_Year      0.067817\n",
       "Item_Type_encode               0.027525\n",
       "Item_Weight                    0.016982\n",
       "Item_Identifier_encode         0.013326\n",
       "Item_Fat_Content_encode        0.009932\n",
       "Name: Item_Outlet_Sales, dtype: float64"
      ]
     },
     "execution_count": 31,
     "metadata": {},
     "output_type": "execute_result"
    }
   ],
   "source": [
    "# Checking correlation with dependent column\n",
    "cor = abs(df.corr())\n",
    "cor['Item_Outlet_Sales'].sort_values(ascending=False)"
   ]
  },
  {
   "cell_type": "markdown",
   "id": "d9427758",
   "metadata": {},
   "source": [
    "**Interpretation**:The columns with good correlation with Item_Outlet_Sales include Item_MRP,Outlet_Type_encode,Outlet_Identifier_encode."
   ]
  },
  {
   "cell_type": "markdown",
   "id": "47f0390c",
   "metadata": {},
   "source": [
    "### Data Splitting"
   ]
  },
  {
   "cell_type": "code",
   "execution_count": 84,
   "id": "accaddb0",
   "metadata": {},
   "outputs": [],
   "source": [
    "X = df[['Item_MRP','Outlet_Type_encode','Outlet_Identifier_encode','Outlet_Location_Type_encode']]\n",
    "y = df['Item_Outlet_Sales']\n",
    "\n",
    "X_train,X_test,y_train,y_test = train_test_split(X,y,test_size=0.30,random_state=10)"
   ]
  },
  {
   "cell_type": "code",
   "execution_count": 33,
   "id": "bf441adf",
   "metadata": {},
   "outputs": [
    {
     "name": "stdout",
     "output_type": "stream",
     "text": [
      "X_train : (9942, 4)\n",
      "X_test  : (4262, 4)\n",
      "y_train : (9942,)\n",
      "y_test  : (4262,)\n"
     ]
    }
   ],
   "source": [
    "print('X_train :',X_train.shape)\n",
    "print('X_test  :',X_test.shape)\n",
    "print('y_train :',y_train.shape)\n",
    "print('y_test  :',y_test.shape)"
   ]
  },
  {
   "cell_type": "markdown",
   "id": "f8dcda26",
   "metadata": {},
   "source": [
    "**Data is splitted using train_test_split method.**"
   ]
  },
  {
   "cell_type": "markdown",
   "id": "01f28a17",
   "metadata": {},
   "source": [
    "### Feature Scaling"
   ]
  },
  {
   "cell_type": "code",
   "execution_count": 34,
   "id": "0301b947",
   "metadata": {},
   "outputs": [],
   "source": [
    "# data scaling\n",
    "#numerics = ['int16','int32','int64','float16','float32','float64']\n",
    "scaler = StandardScaler()   # standardizing\n",
    "X_train = scaler.fit_transform(X_train)\n",
    "X_test = scaler.transform(X_test)\n",
    "#df_2 = df.select_dtypes(include=numerics)\n",
    "\n",
    "#df_scaled = pd.DataFrame(scaler.fit_transform(df_2.to_numpy()),columns=df_2.columns)  # creating dataframe with scaled values\n",
    "#df_scaled.head()"
   ]
  },
  {
   "cell_type": "markdown",
   "id": "17a146e5",
   "metadata": {},
   "source": [
    "**Data is scaled using Standard scaler**"
   ]
  },
  {
   "cell_type": "markdown",
   "id": "b14115ee",
   "metadata": {},
   "source": [
    "# REGRESSION MODELS"
   ]
  },
  {
   "cell_type": "markdown",
   "id": "a9b46c6b",
   "metadata": {},
   "source": [
    "## Linear Regression "
   ]
  },
  {
   "cell_type": "markdown",
   "id": "cbe9e2b2",
   "metadata": {},
   "source": [
    "### Model Building & Fitting"
   ]
  },
  {
   "cell_type": "code",
   "execution_count": 35,
   "id": "f004dbe2",
   "metadata": {},
   "outputs": [],
   "source": [
    "# Building the model\n",
    "lr_model = LinearRegression()"
   ]
  },
  {
   "cell_type": "code",
   "execution_count": 36,
   "id": "36530dd7",
   "metadata": {},
   "outputs": [
    {
     "data": {
      "text/plain": [
       "LinearRegression()"
      ]
     },
     "execution_count": 36,
     "metadata": {},
     "output_type": "execute_result"
    }
   ],
   "source": [
    "# Fitting the train datas to the model\n",
    "lr_model.fit(X_train,y_train)"
   ]
  },
  {
   "cell_type": "markdown",
   "id": "6dfa5c82",
   "metadata": {},
   "source": [
    "### Predictions"
   ]
  },
  {
   "cell_type": "code",
   "execution_count": 37,
   "id": "01aef0e3",
   "metadata": {},
   "outputs": [
    {
     "data": {
      "text/plain": [
       "array([1397.55063811, 1812.46777352, 1916.33171039, ..., 2430.99256255,\n",
       "       3336.03394408, 2707.36783841])"
      ]
     },
     "execution_count": 37,
     "metadata": {},
     "output_type": "execute_result"
    }
   ],
   "source": [
    "# Predicting the unseen data using x test\n",
    "lr_pred = lr_model.predict(X_test)\n",
    "lr_pred"
   ]
  },
  {
   "cell_type": "markdown",
   "id": "dd0ad779",
   "metadata": {},
   "source": [
    "### Performance Check"
   ]
  },
  {
   "cell_type": "code",
   "execution_count": 38,
   "id": "8f309280",
   "metadata": {},
   "outputs": [
    {
     "name": "stdout",
     "output_type": "stream",
     "text": [
      "Performance of Training dataset: 40.74 %\n",
      "Performance of Testing dataset : 41.1 %\n"
     ]
    }
   ],
   "source": [
    "# Performance of training data and testing data\n",
    "lr_train = lr_model.score(X_train,y_train)\n",
    "lr_test = lr_model.score(X_test,y_test)\n",
    "\n",
    "print(f'Performance of Training dataset: {np.round(lr_train*100,2)} %')\n",
    "print(f'Performance of Testing dataset : {np.round(lr_test*100,2)} %')"
   ]
  },
  {
   "cell_type": "markdown",
   "id": "eaad588e",
   "metadata": {},
   "source": [
    "### Evaluation Metrics"
   ]
  },
  {
   "cell_type": "code",
   "execution_count": 39,
   "id": "5f5e8e38",
   "metadata": {},
   "outputs": [
    {
     "name": "stdout",
     "output_type": "stream",
     "text": [
      "MSE  : 130111260.0 %\n",
      "RMSE : 114066.0 %\n",
      "MAE  : 82250.0 %\n",
      "MAPE : 1.0%\n",
      "R_2  : 41.0 %\n"
     ]
    }
   ],
   "source": [
    "MSE = np.round(mean_squared_error(y_test, lr_pred)*100)\n",
    "RMSE = np.round(mean_squared_error(y_test, lr_pred, squared=False)*100)\n",
    "MAE = np.round(mean_absolute_error(y_test,lr_pred)*100)\n",
    "MAPE = np.round(mean_absolute_percentage_error(y_test,lr_pred))\n",
    "r2 = np.round(r2_score(y_test,lr_pred)*100)\n",
    "\n",
    "print(f'MSE  : {MSE} %')\n",
    "print(f'RMSE : {RMSE} %')\n",
    "print(f'MAE  : {MAE} %')\n",
    "print(f'MAPE : {MAPE}%')\n",
    "print(f'R_2  : {r2} %')"
   ]
  },
  {
   "cell_type": "markdown",
   "id": "1acbbd21",
   "metadata": {},
   "source": [
    "### Plot"
   ]
  },
  {
   "cell_type": "code",
   "execution_count": 40,
   "id": "c739c279",
   "metadata": {},
   "outputs": [
    {
     "data": {
      "image/png": "[encoded data removed]",
      "text/plain": [
       "<Figure size 432x288 with 1 Axes>"
      ]
     },
     "metadata": {
      "needs_background": "light"
     },
     "output_type": "display_data"
    }
   ],
   "source": [
    "# Plot\n",
    "a = np.arange(0,len(lr_pred))\n",
    "\n",
    "plt.scatter(a,lr_pred,color='r')\n",
    "plt.scatter(a,y_test,color='g')\n",
    "plt.title('Actual vs Predicted values of LinearRegression')\n",
    "plt.show()"
   ]
  },
  {
   "cell_type": "markdown",
   "id": "9100813a",
   "metadata": {},
   "source": [
    "**Most y_test values doesnot collide with the predicted values i.e the error difference is more.**"
   ]
  },
  {
   "cell_type": "markdown",
   "id": "c18e17f8",
   "metadata": {},
   "source": [
    "**Interpretation**:\n",
    "- To predict the Sales data we first try with the Linear Regression Model for the data.\n",
    "- The performances of train and test is about 40.74% and 41.1%.\n",
    "- The errors are also high for this model."
   ]
  },
  {
   "cell_type": "markdown",
   "id": "14204ccb",
   "metadata": {},
   "source": [
    "## Decision Tree Regressor"
   ]
  },
  {
   "cell_type": "markdown",
   "id": "64638085",
   "metadata": {},
   "source": [
    "### Model Building"
   ]
  },
  {
   "cell_type": "code",
   "execution_count": 41,
   "id": "55e1fa0b",
   "metadata": {},
   "outputs": [],
   "source": [
    "dtm = DecisionTreeRegressor(max_depth=3,\n",
    "                           min_samples_split=5,\n",
    "                           max_leaf_nodes=10)\n"
   ]
  },
  {
   "cell_type": "markdown",
   "id": "1fc185ea",
   "metadata": {},
   "source": [
    "### Fitting the model"
   ]
  },
  {
   "cell_type": "code",
   "execution_count": 42,
   "id": "e3134f06",
   "metadata": {},
   "outputs": [
    {
     "data": {
      "text/plain": [
       "DecisionTreeRegressor(max_depth=3, max_leaf_nodes=10, min_samples_split=5)"
      ]
     },
     "execution_count": 42,
     "metadata": {},
     "output_type": "execute_result"
    }
   ],
   "source": [
    "dtm.fit(X_train,y_train)"
   ]
  },
  {
   "cell_type": "markdown",
   "id": "3d88af79",
   "metadata": {},
   "source": [
    "### Predicting the model"
   ]
  },
  {
   "cell_type": "code",
   "execution_count": 43,
   "id": "4674a56b",
   "metadata": {},
   "outputs": [
    {
     "data": {
      "text/plain": [
       "array([1625.46570609, 1625.46570609, 2648.52103792, ..., 2648.52103792,\n",
       "       2648.52103792, 2648.52103792])"
      ]
     },
     "execution_count": 43,
     "metadata": {},
     "output_type": "execute_result"
    }
   ],
   "source": [
    "dtm_pred = dtm.predict(X_test)\n",
    "dtm_pred"
   ]
  },
  {
   "cell_type": "markdown",
   "id": "0db279bb",
   "metadata": {},
   "source": [
    "### Performance Check"
   ]
  },
  {
   "cell_type": "code",
   "execution_count": 44,
   "id": "ce40aca9",
   "metadata": {},
   "outputs": [
    {
     "name": "stdout",
     "output_type": "stream",
     "text": [
      "Performance of train dataset = 46.0 %\n",
      "Performance of test dataset  = 46.0 %\n"
     ]
    }
   ],
   "source": [
    "dtm_train = dtm.score(X_train,y_train)\n",
    "dtm_test = dtm.score(X_test,y_test)\n",
    "\n",
    "print(f\"Performance of train dataset = {np.round(dtm_train*100)} %\")\n",
    "print(f\"Performance of test dataset  = {np.round(dtm_test*100)} %\")"
   ]
  },
  {
   "cell_type": "markdown",
   "id": "6326dbe0",
   "metadata": {},
   "source": [
    "### Evaluation Metrics"
   ]
  },
  {
   "cell_type": "code",
   "execution_count": 45,
   "id": "b2dded8b",
   "metadata": {},
   "outputs": [
    {
     "name": "stdout",
     "output_type": "stream",
     "text": [
      "MSE  : 120169331.32 %\n",
      "RMSE : 109621.77 %\n",
      "MAE  : 76137.45 %\n",
      "MAPE : 1.0\n",
      "R_2  : 45.6 %\n"
     ]
    }
   ],
   "source": [
    "MSE1 = mean_squared_error(y_test, dtm_pred)\n",
    "RMSE1 = mean_squared_error(y_test, dtm_pred, squared=False)\n",
    "MAE1 = mean_absolute_error(y_test,dtm_pred)\n",
    "MAPE1 = mean_absolute_percentage_error(y_test,dtm_pred)\n",
    "r2_dtm = r2_score(y_test,dtm_pred)\n",
    "\n",
    "print(f'MSE  : {np.round(MSE1*100,2)} %')\n",
    "print(f'RMSE : {np.round(RMSE1*100,2)} %')\n",
    "print(f'MAE  : {np.round(MAE1*100,2)} %')\n",
    "print(f'MAPE : {MAPE}')\n",
    "print(f'R_2  : {np.round(r2_dtm*100,2)} %')"
   ]
  },
  {
   "cell_type": "markdown",
   "id": "449fe870",
   "metadata": {},
   "source": [
    "**To improve our performance we can do hyperparameter tuning to get the best parameter to get good performance**"
   ]
  },
  {
   "cell_type": "markdown",
   "id": "f76fba93",
   "metadata": {},
   "source": [
    "## Using Grid Search to find best parameters (Hyperparameter Tuning)"
   ]
  },
  {
   "cell_type": "code",
   "execution_count": 46,
   "id": "c4aea8b5",
   "metadata": {},
   "outputs": [],
   "source": [
    "# Grid Search \n",
    "# Setting parameters for grid search\n",
    "params = {\n",
    "          'max_depth':[6,8,10,12,14,16],\n",
    "          'min_samples_split':[5,10,15,20],\n",
    "          'max_leaf_nodes':[10,20,30,40]\n",
    "}"
   ]
  },
  {
   "cell_type": "code",
   "execution_count": 47,
   "id": "ea9774f4",
   "metadata": {},
   "outputs": [],
   "source": [
    "grid_search = GridSearchCV(estimator=dtm,\n",
    "                           param_grid=params,\n",
    "                           cv = 4,\n",
    "                           n_jobs=-1, verbose=1, scoring=\"r2\")"
   ]
  },
  {
   "cell_type": "code",
   "execution_count": 48,
   "id": "bd064ed2",
   "metadata": {},
   "outputs": [
    {
     "name": "stdout",
     "output_type": "stream",
     "text": [
      "Fitting 4 folds for each of 96 candidates, totalling 384 fits\n"
     ]
    },
    {
     "data": {
      "text/plain": [
       "GridSearchCV(cv=4,\n",
       "             estimator=DecisionTreeRegressor(max_depth=3, max_leaf_nodes=10,\n",
       "                                             min_samples_split=5),\n",
       "             n_jobs=-1,\n",
       "             param_grid={'max_depth': [6, 8, 10, 12, 14, 16],\n",
       "                         'max_leaf_nodes': [10, 20, 30, 40],\n",
       "                         'min_samples_split': [5, 10, 15, 20]},\n",
       "             scoring='r2', verbose=1)"
      ]
     },
     "execution_count": 48,
     "metadata": {},
     "output_type": "execute_result"
    }
   ],
   "source": [
    "# Fitting train datas to Grid search model\n",
    "grid_search.fit(X_train, y_train)"
   ]
  },
  {
   "cell_type": "code",
   "execution_count": 49,
   "id": "9dd442e0",
   "metadata": {},
   "outputs": [
    {
     "data": {
      "text/plain": [
       "0.49708565125705817"
      ]
     },
     "execution_count": 49,
     "metadata": {},
     "output_type": "execute_result"
    }
   ],
   "source": [
    "# Best score\n",
    "grid_search.best_score_"
   ]
  },
  {
   "cell_type": "code",
   "execution_count": 50,
   "id": "d5179cd3",
   "metadata": {},
   "outputs": [
    {
     "data": {
      "text/plain": [
       "DecisionTreeRegressor(max_depth=6, max_leaf_nodes=30, min_samples_split=5)"
      ]
     },
     "execution_count": 50,
     "metadata": {},
     "output_type": "execute_result"
    }
   ],
   "source": [
    "# Best estimators\n",
    "rf_best = grid_search.best_estimator_\n",
    "rf_best "
   ]
  },
  {
   "cell_type": "markdown",
   "id": "d37b2c0a",
   "metadata": {},
   "source": [
    "## Decision Tree Regressor Model with optimum Parameters"
   ]
  },
  {
   "cell_type": "markdown",
   "id": "2061f63d",
   "metadata": {},
   "source": [
    "### Model Building"
   ]
  },
  {
   "cell_type": "code",
   "execution_count": 51,
   "id": "2df32c65",
   "metadata": {},
   "outputs": [],
   "source": [
    "dtm2=DecisionTreeRegressor(max_depth=6, max_leaf_nodes=30, min_samples_split=5)"
   ]
  },
  {
   "cell_type": "markdown",
   "id": "5220d598",
   "metadata": {},
   "source": [
    "### Model fitting"
   ]
  },
  {
   "cell_type": "code",
   "execution_count": 52,
   "id": "faea2c66",
   "metadata": {},
   "outputs": [
    {
     "data": {
      "text/plain": [
       "DecisionTreeRegressor(max_depth=6, max_leaf_nodes=30, min_samples_split=5)"
      ]
     },
     "execution_count": 52,
     "metadata": {},
     "output_type": "execute_result"
    }
   ],
   "source": [
    "dtm2.fit(X_train,y_train)"
   ]
  },
  {
   "cell_type": "markdown",
   "id": "6165faf2",
   "metadata": {},
   "source": [
    "### Prediction"
   ]
  },
  {
   "cell_type": "code",
   "execution_count": 53,
   "id": "bd3c74a1",
   "metadata": {},
   "outputs": [],
   "source": [
    "t_pred = dtm2.predict(X_test)"
   ]
  },
  {
   "cell_type": "markdown",
   "id": "905273f5",
   "metadata": {},
   "source": [
    "### Performance Check"
   ]
  },
  {
   "cell_type": "code",
   "execution_count": 54,
   "id": "910f2bec",
   "metadata": {},
   "outputs": [
    {
     "name": "stdout",
     "output_type": "stream",
     "text": [
      "Performance of train dataset = 52.0 %\n",
      "Performance of test dataset  = 51.0 %\n"
     ]
    }
   ],
   "source": [
    "dtm2_train = dtm2.score(X_train,y_train)\n",
    "dtm2_test = dtm2.score(X_test,y_test)\n",
    "\n",
    "print(f\"Performance of train dataset = {np.round(dtm2_train*100)} %\")\n",
    "print(f\"Performance of test dataset  = {np.round(dtm2_test*100)} %\")"
   ]
  },
  {
   "cell_type": "markdown",
   "id": "e9c50eb5",
   "metadata": {},
   "source": [
    "### Evaluation Metrics"
   ]
  },
  {
   "cell_type": "code",
   "execution_count": 55,
   "id": "213981a4",
   "metadata": {},
   "outputs": [
    {
     "name": "stdout",
     "output_type": "stream",
     "text": [
      "MSE  : 107590221.0 %\n",
      "RMSE : 103726.0 %\n",
      "MAE  : 71768.0 %\n",
      "MAPE : 1.0 %\n",
      "R_2  : 51.0 %\n"
     ]
    }
   ],
   "source": [
    "MSE_1 = np.round(mean_squared_error(y_test,t_pred)*100)\n",
    "RMSE_1 = np.round(mean_squared_error(y_test, t_pred, squared=False)*100)\n",
    "MAE_1 = np.round(mean_absolute_error(y_test,t_pred)*100)\n",
    "MAPE_1 = np.round(mean_absolute_percentage_error(y_test,t_pred))\n",
    "r2_1 = np.round(r2_score(y_test,t_pred)*100)\n",
    "\n",
    "print(f'MSE  : {MSE_1} %')\n",
    "print(f'RMSE : {RMSE_1} %')\n",
    "print(f'MAE  : {MAE_1} %')\n",
    "print(f'MAPE : {MAPE_1} %')\n",
    "print(f'R_2  : {r2_1} %')"
   ]
  },
  {
   "cell_type": "code",
   "execution_count": 56,
   "id": "b0080264",
   "metadata": {},
   "outputs": [
    {
     "data": {
      "image/png": "[encoded data removed]",
      "text/plain": [
       "<Figure size 432x288 with 1 Axes>"
      ]
     },
     "metadata": {
      "needs_background": "light"
     },
     "output_type": "display_data"
    }
   ],
   "source": [
    "# Plot\n",
    "a = np.arange(0,len(t_pred))\n",
    "\n",
    "plt.scatter(a,t_pred,color='r')\n",
    "plt.scatter(a,y_test,color='g')\n",
    "plt.title('Actual vs Predicted values of DecisiontreeRegressor')\n",
    "plt.show()"
   ]
  },
  {
   "cell_type": "markdown",
   "id": "f514322b",
   "metadata": {},
   "source": [
    "**Interpretation**:\n",
    "- On using decision tree regressor for prediction of sales we get performance of about 46%.\n",
    "- We used Grid Search hyperparameter tuning to get best parameters for the model.\n",
    "- On using the obtained best estimators for the model we get a performance of about 51%."
   ]
  },
  {
   "cell_type": "markdown",
   "id": "39408397",
   "metadata": {},
   "source": [
    "## Random Forest Regressor"
   ]
  },
  {
   "cell_type": "markdown",
   "id": "15e0b190",
   "metadata": {},
   "source": [
    "### Model Building & Fitting"
   ]
  },
  {
   "cell_type": "code",
   "execution_count": 57,
   "id": "71d240f6",
   "metadata": {},
   "outputs": [],
   "source": [
    "rf = RandomForestRegressor().fit(X_train,y_train)"
   ]
  },
  {
   "cell_type": "markdown",
   "id": "50f7bbd3",
   "metadata": {},
   "source": [
    "### Predictions"
   ]
  },
  {
   "cell_type": "code",
   "execution_count": 58,
   "id": "3257d19b",
   "metadata": {},
   "outputs": [
    {
     "data": {
      "text/plain": [
       "array([1250.568811, 1916.884806, 2152.141907, ..., 3574.620278,\n",
       "       2999.036178, 2158.533587])"
      ]
     },
     "execution_count": 58,
     "metadata": {},
     "output_type": "execute_result"
    }
   ],
   "source": [
    "r_pred = rf.predict(X_test)\n",
    "r_pred"
   ]
  },
  {
   "cell_type": "markdown",
   "id": "06a7a872",
   "metadata": {},
   "source": [
    "### Performance Check"
   ]
  },
  {
   "cell_type": "code",
   "execution_count": 59,
   "id": "321bba51",
   "metadata": {},
   "outputs": [
    {
     "name": "stdout",
     "output_type": "stream",
     "text": [
      "Performance of train dataset = 90.0 %\n",
      "Performance of test dataset  = 38.0 %\n"
     ]
    }
   ],
   "source": [
    "rf_train = rf.score(X_train,y_train)\n",
    "rf_test = rf.score(X_test,y_test)\n",
    "\n",
    "print(f\"Performance of train dataset = {np.round(rf_train*100)} %\")\n",
    "print(f\"Performance of test dataset  = {np.round(rf_test*100)} %\")"
   ]
  },
  {
   "cell_type": "markdown",
   "id": "6a6d2122",
   "metadata": {},
   "source": [
    "### Evaluation Metrics"
   ]
  },
  {
   "cell_type": "code",
   "execution_count": 60,
   "id": "998307f5",
   "metadata": {},
   "outputs": [
    {
     "name": "stdout",
     "output_type": "stream",
     "text": [
      "MSE  : 137772397.0 %\n",
      "RMSE : 117376.0 %\n",
      "MAE  : 80127.0 %\n",
      "MAPE : 1.0 %\n",
      "R_2  : 38.0 %\n"
     ]
    }
   ],
   "source": [
    "MSE2 = np.round(mean_squared_error(y_test,r_pred)*100)\n",
    "RMSE2 = np.round(mean_squared_error(y_test, r_pred, squared=False)*100)\n",
    "MAE2 = np.round(mean_absolute_error(y_test,r_pred)*100)\n",
    "MAPE2 = np.round(mean_absolute_percentage_error(y_test,r_pred))\n",
    "r22 = np.round(r2_score(y_test,r_pred)*100)\n",
    "\n",
    "print(f'MSE  : {MSE2} %')\n",
    "print(f'RMSE : {RMSE2} %')\n",
    "print(f'MAE  : {MAE2} %')\n",
    "print(f'MAPE : {MAPE} %')\n",
    "print(f'R_2  : {r22} %')"
   ]
  },
  {
   "cell_type": "markdown",
   "id": "7db9b444",
   "metadata": {},
   "source": [
    "**We can use Grid Search to get best parameters for the model as the model seems to be overfitting.**"
   ]
  },
  {
   "cell_type": "markdown",
   "id": "70ac0f48",
   "metadata": {},
   "source": [
    "### Using Grid Search to find best parameters (Hyperparameter Tuning)"
   ]
  },
  {
   "cell_type": "code",
   "execution_count": 61,
   "id": "73c128db",
   "metadata": {},
   "outputs": [],
   "source": [
    "# setting parameters\n",
    "params = {\n",
    "    'max_depth': [2,3,5,10,20,25],\n",
    "    'min_samples_leaf': [5,10,20,25,30,50],\n",
    "    'n_estimators': [5,10,15,20,25,30]\n",
    "}"
   ]
  },
  {
   "cell_type": "code",
   "execution_count": 62,
   "id": "ffaaa614",
   "metadata": {},
   "outputs": [],
   "source": [
    "grid_search = GridSearchCV(estimator=rf,\n",
    "                           param_grid=params,\n",
    "                           cv = 5,\n",
    "                           n_jobs=-1, verbose=1, scoring=\"r2\")"
   ]
  },
  {
   "cell_type": "code",
   "execution_count": 63,
   "id": "73b8e5b0",
   "metadata": {},
   "outputs": [
    {
     "name": "stdout",
     "output_type": "stream",
     "text": [
      "Fitting 5 folds for each of 216 candidates, totalling 1080 fits\n"
     ]
    },
    {
     "data": {
      "text/plain": [
       "GridSearchCV(cv=5, estimator=RandomForestRegressor(), n_jobs=-1,\n",
       "             param_grid={'max_depth': [2, 3, 5, 10, 20, 25],\n",
       "                         'min_samples_leaf': [5, 10, 20, 25, 30, 50],\n",
       "                         'n_estimators': [5, 10, 15, 20, 25, 30]},\n",
       "             scoring='r2', verbose=1)"
      ]
     },
     "execution_count": 63,
     "metadata": {},
     "output_type": "execute_result"
    }
   ],
   "source": [
    "# Fitting the train data\n",
    "grid_search.fit(X_train, y_train)"
   ]
  },
  {
   "cell_type": "code",
   "execution_count": 64,
   "id": "9c376fd3",
   "metadata": {},
   "outputs": [
    {
     "data": {
      "text/plain": [
       "0.5060635789260253"
      ]
     },
     "execution_count": 64,
     "metadata": {},
     "output_type": "execute_result"
    }
   ],
   "source": [
    "# Best score\n",
    "grid_search.best_score_"
   ]
  },
  {
   "cell_type": "code",
   "execution_count": 65,
   "id": "634dfdc8",
   "metadata": {},
   "outputs": [
    {
     "data": {
      "text/plain": [
       "RandomForestRegressor(max_depth=5, min_samples_leaf=50, n_estimators=30)"
      ]
     },
     "execution_count": 65,
     "metadata": {},
     "output_type": "execute_result"
    }
   ],
   "source": [
    "# best estimator\n",
    "grid_search.best_estimator_"
   ]
  },
  {
   "cell_type": "markdown",
   "id": "deffd6a2",
   "metadata": {},
   "source": [
    "## RandomForestRegressor model using optimum parameters"
   ]
  },
  {
   "cell_type": "markdown",
   "id": "d3e0839f",
   "metadata": {},
   "source": [
    "### Model Building using optimum parameters"
   ]
  },
  {
   "cell_type": "code",
   "execution_count": 66,
   "id": "0057f692",
   "metadata": {},
   "outputs": [
    {
     "data": {
      "text/plain": [
       "RandomForestRegressor(max_depth=5, min_samples_leaf=30, n_estimators=15)"
      ]
     },
     "execution_count": 66,
     "metadata": {},
     "output_type": "execute_result"
    }
   ],
   "source": [
    "rf1 = RandomForestRegressor(max_depth=5, min_samples_leaf=30, n_estimators=15)\n",
    "rf1.fit(X_train,y_train)"
   ]
  },
  {
   "cell_type": "markdown",
   "id": "af49efbc",
   "metadata": {},
   "source": [
    "### Prediction"
   ]
  },
  {
   "cell_type": "code",
   "execution_count": 67,
   "id": "4d9e9ad3",
   "metadata": {},
   "outputs": [],
   "source": [
    "pred_rf=rf1.predict(X_test)"
   ]
  },
  {
   "cell_type": "markdown",
   "id": "a7b6e055",
   "metadata": {},
   "source": [
    "### Performance Check"
   ]
  },
  {
   "cell_type": "code",
   "execution_count": 68,
   "id": "83b7fac7",
   "metadata": {},
   "outputs": [
    {
     "name": "stdout",
     "output_type": "stream",
     "text": [
      "Performance of train dataset = 51.0 %\n",
      "Performance of test dataset  = 51.0 %\n"
     ]
    }
   ],
   "source": [
    "rf1_train = rf1.score(X_train,y_train)\n",
    "rf1_test = rf1.score(X_test,y_test)\n",
    "\n",
    "print(f\"Performance of train dataset = {np.round(rf1_train*100)} %\")\n",
    "print(f\"Performance of test dataset  = {np.round(rf1_test*100)} %\")"
   ]
  },
  {
   "cell_type": "markdown",
   "id": "3c094ae7",
   "metadata": {},
   "source": [
    "### Evaluation Metrics"
   ]
  },
  {
   "cell_type": "code",
   "execution_count": 69,
   "id": "16ae8d37",
   "metadata": {},
   "outputs": [
    {
     "name": "stdout",
     "output_type": "stream",
     "text": [
      "MSE  : 107658601.0 %\n",
      "RMSE : 103759.0 %\n",
      "MAE  : 71845.0 %\n",
      "MAPE : 1.0 %\n",
      "R_2  : 51.0 %\n"
     ]
    }
   ],
   "source": [
    "MSE_2 = np.round(mean_squared_error(y_test,pred_rf)*100)\n",
    "RMSE_2 = np.round(mean_squared_error(y_test, pred_rf, squared=False)*100)\n",
    "MAE_2 = np.round(mean_absolute_error(y_test,pred_rf)*100)\n",
    "MAPE_2 = np.round(mean_absolute_percentage_error(y_test,pred_rf))\n",
    "r2_2 = np.round(r2_score(y_test,pred_rf)*100)\n",
    "\n",
    "print(f'MSE  : {MSE_2} %')\n",
    "print(f'RMSE : {RMSE_2} %')\n",
    "print(f'MAE  : {MAE_2} %')\n",
    "print(f'MAPE : {MAPE} %')\n",
    "print(f'R_2  : {r2_2} %')"
   ]
  },
  {
   "cell_type": "code",
   "execution_count": 70,
   "id": "e84a4037",
   "metadata": {},
   "outputs": [
    {
     "data": {
      "image/png": "[encoded data removed]",
      "text/plain": [
       "<Figure size 432x288 with 1 Axes>"
      ]
     },
     "metadata": {
      "needs_background": "light"
     },
     "output_type": "display_data"
    }
   ],
   "source": [
    "# Plot\n",
    "a = np.arange(0,len(pred_rf))\n",
    "\n",
    "plt.scatter(a,pred_rf,color='r')\n",
    "plt.scatter(a,y_test,color='g')\n",
    "plt.title('Actual vs Predicted values of RandomForestRegressor')\n",
    "plt.show()"
   ]
  },
  {
   "cell_type": "markdown",
   "id": "79ae7d16",
   "metadata": {},
   "source": [
    "**Interpretation**:\n",
    "- On using RandomForestRegressor model for prediction of sales we get a performance of about 46% but it seemed to be overfitting.\n",
    "- So we use Hyperparameter tuning to get the best parameters for the model.\n",
    "- On using the model with best estimators we get a performance of about 51%."
   ]
  },
  {
   "cell_type": "markdown",
   "id": "b880f3e3",
   "metadata": {},
   "source": [
    "## Stacking"
   ]
  },
  {
   "cell_type": "code",
   "execution_count": 71,
   "id": "e78a4327",
   "metadata": {},
   "outputs": [],
   "source": [
    "from sklearn.neighbors import KNeighborsRegressor\n",
    "from sklearn.svm import SVR"
   ]
  },
  {
   "cell_type": "markdown",
   "id": "e39951c2",
   "metadata": {},
   "source": [
    "### Defining the function for the model"
   ]
  },
  {
   "cell_type": "code",
   "execution_count": 72,
   "id": "dfb1a006",
   "metadata": {},
   "outputs": [],
   "source": [
    "def get_stacking():\n",
    "    level0 = list()\n",
    "    level0.append(('knn',KNeighborsRegressor()))\n",
    "    level0.append(('dtr',DecisionTreeRegressor()))\n",
    "    level0.append(('svr',SVR()))\n",
    "    level1 = LinearRegression()\n",
    "    model = StackingRegressor(estimators=level0,final_estimator=level1,cv=3)\n",
    "    return model"
   ]
  },
  {
   "cell_type": "markdown",
   "id": "b5649349",
   "metadata": {},
   "source": [
    "### Model"
   ]
  },
  {
   "cell_type": "code",
   "execution_count": 73,
   "id": "217bc63a",
   "metadata": {},
   "outputs": [
    {
     "data": {
      "text/plain": [
       "{'fit_time': array([41.27205873, 40.68605924, 41.67446256]),\n",
       " 'score_time': array([10.47284055, 10.65860057,  9.74851894]),\n",
       " 'test_r2': array([0.39448898, 0.38212094, 0.38712793]),\n",
       " 'test_neg_mean_absolute_error': array([-790.21925919, -758.90829812, -755.38941053]),\n",
       " 'test_neg_mean_squared_error': array([-1329548.01445879, -1203955.47350785, -1164377.47153119]),\n",
       " 'test_neg_root_mean_squared_error': array([-1153.06028223, -1097.24904808, -1079.06323797]),\n",
       " 'test_neg_mean_absolute_percentage_error': array([-0.82879103, -0.77420227, -0.77054221])}"
      ]
     },
     "execution_count": 73,
     "metadata": {},
     "output_type": "execute_result"
    }
   ],
   "source": [
    "model = get_stacking()\n",
    "\n",
    "cv = KFold(n_splits=3, random_state=10,shuffle=True)\n",
    "scoring = ['r2','neg_mean_absolute_error','neg_mean_squared_error','neg_root_mean_squared_error','neg_mean_absolute_percentage_error']\n",
    "st_scores = cross_validate(model,X,y,scoring=scoring,cv=cv,n_jobs=-1,error_score='raise')\n",
    "st_scores"
   ]
  },
  {
   "cell_type": "markdown",
   "id": "cf84edf3",
   "metadata": {},
   "source": [
    "### Evaluation Metrics"
   ]
  },
  {
   "cell_type": "code",
   "execution_count": 74,
   "id": "fefd6156",
   "metadata": {},
   "outputs": [
    {
     "name": "stdout",
     "output_type": "stream",
     "text": [
      "MSE : 123262699.0 %\n",
      "RMSE: 110979.0 %\n",
      "MAE : 76817.0 %\n",
      "MAPE: 1.0 %\n",
      "R_2 : 39.0 %\n"
     ]
    }
   ],
   "source": [
    "mse_3 = np.round(abs(st_scores['test_neg_mean_squared_error'].mean())*100)\n",
    "rmse_3 = np.round(abs(st_scores['test_neg_root_mean_squared_error'].mean())*100)\n",
    "mae_3 = np.round(abs(st_scores['test_neg_mean_absolute_error'].mean())*100)\n",
    "mape_3 = np.round(abs(st_scores['test_neg_mean_absolute_percentage_error'].mean()))\n",
    "r2_3 = np.round(st_scores['test_r2'].mean()*100)\n",
    "\n",
    "print('MSE :',mse_3,'%')\n",
    "print('RMSE:',rmse_3,'%')\n",
    "print('MAE :',mae_3,'%')\n",
    "print('MAPE:',mape_3,'%')\n",
    "print('R_2 :',r2_3,'%')"
   ]
  },
  {
   "cell_type": "markdown",
   "id": "0dd31401",
   "metadata": {},
   "source": [
    "**Interpretation**:\n",
    "- On using Stacking model for the prediction of sales we get a performance of about 39%."
   ]
  },
  {
   "cell_type": "markdown",
   "id": "4f089b57",
   "metadata": {},
   "source": [
    "# CONCLUSION"
   ]
  },
  {
   "cell_type": "code",
   "execution_count": 75,
   "id": "7f19feaf",
   "metadata": {},
   "outputs": [
    {
     "data": {
      "text/html": [
       "<div>\n",
       "<style scoped>\n",
       "    .dataframe tbody tr th:only-of-type {\n",
       "        vertical-align: middle;\n",
       "    }\n",
       "\n",
       "    .dataframe tbody tr th {\n",
       "        vertical-align: top;\n",
       "    }\n",
       "\n",
       "    .dataframe thead th {\n",
       "        text-align: right;\n",
       "    }\n",
       "</style>\n",
       "<table border=\"1\" class=\"dataframe\">\n",
       "  <thead>\n",
       "    <tr style=\"text-align: right;\">\n",
       "      <th></th>\n",
       "      <th>MSE</th>\n",
       "      <th>RMSE</th>\n",
       "      <th>MAE</th>\n",
       "      <th>MAPE</th>\n",
       "      <th>R2</th>\n",
       "    </tr>\n",
       "  </thead>\n",
       "  <tbody>\n",
       "    <tr>\n",
       "      <th>LinearRegresssion</th>\n",
       "      <td>130111260.0</td>\n",
       "      <td>114066.0</td>\n",
       "      <td>82250.0</td>\n",
       "      <td>1.0</td>\n",
       "      <td>41.0</td>\n",
       "    </tr>\n",
       "    <tr>\n",
       "      <th>DecionTreeRegressor</th>\n",
       "      <td>107590221.0</td>\n",
       "      <td>103726.0</td>\n",
       "      <td>71768.0</td>\n",
       "      <td>1.0</td>\n",
       "      <td>51.0</td>\n",
       "    </tr>\n",
       "    <tr>\n",
       "      <th>RandomForestRegressor</th>\n",
       "      <td>107658601.0</td>\n",
       "      <td>103759.0</td>\n",
       "      <td>71845.0</td>\n",
       "      <td>1.0</td>\n",
       "      <td>51.0</td>\n",
       "    </tr>\n",
       "    <tr>\n",
       "      <th>StackingRegressor</th>\n",
       "      <td>123262699.0</td>\n",
       "      <td>110979.0</td>\n",
       "      <td>76817.0</td>\n",
       "      <td>1.0</td>\n",
       "      <td>39.0</td>\n",
       "    </tr>\n",
       "  </tbody>\n",
       "</table>\n",
       "</div>"
      ],
      "text/plain": [
       "                               MSE      RMSE      MAE  MAPE    R2\n",
       "LinearRegresssion      130111260.0  114066.0  82250.0   1.0  41.0\n",
       "DecionTreeRegressor    107590221.0  103726.0  71768.0   1.0  51.0\n",
       "RandomForestRegressor  107658601.0  103759.0  71845.0   1.0  51.0\n",
       "StackingRegressor      123262699.0  110979.0  76817.0   1.0  39.0"
      ]
     },
     "execution_count": 75,
     "metadata": {},
     "output_type": "execute_result"
    }
   ],
   "source": [
    "pd.DataFrame([[MSE,RMSE,MAE,MAPE,r2],[MSE_1,RMSE_1,MAE_1,MAPE_1,r2_1],\n",
    "              [MSE_2,RMSE_2,MAE_2,MAPE_2,r2_2],[mse_3,rmse_3,mae_3,mape_3,r2_3]],\n",
    "             columns=['MSE','RMSE','MAE','MAPE','R2'],\n",
    "             index=['LinearRegresssion','DecionTreeRegressor','RandomForestRegressor','StackingRegressor'])"
   ]
  },
  {
   "cell_type": "markdown",
   "id": "52cd4068",
   "metadata": {},
   "source": [
    "**Conclusion**:\n",
    "- On comparing all the models we could see that Decision tree regressor and Random Forest regressor with hyperparameter tuning gives a better performance of the model compared with the other models for predicting Sales of the store of this dataset."
   ]
  },
  {
   "cell_type": "code",
   "execution_count": null,
   "id": "0171c9d2",
   "metadata": {},
   "outputs": [],
   "source": []
  }
 ],
 "metadata": {
  "kernelspec": {
   "display_name": "Python 3 (ipykernel)",
   "language": "python",
   "name": "python3"
  },
  "language_info": {
   "codemirror_mode": {
    "name": "ipython",
    "version": 3
   },
   "file_extension": ".py",
   "mimetype": "text/x-python",
   "name": "python",
   "nbconvert_exporter": "python",
   "pygments_lexer": "ipython3",
   "version": "3.9.7"
  }
 },
 "nbformat": 4,
 "nbformat_minor": 5
}
